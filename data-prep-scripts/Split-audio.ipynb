{
 "cells": [
  {
   "cell_type": "code",
   "execution_count": 8,
   "metadata": {},
   "outputs": [],
   "source": [
    "import os, json\n",
    "import subprocess"
   ]
  },
  {
   "cell_type": "code",
   "execution_count": 9,
   "metadata": {},
   "outputs": [],
   "source": [
    "timings_path = \"/home/dalon/Files/videoken/diarization-experiments/data-prep-scripts/video-split-timings.json\"\n",
    "audio_dest_path = \"/home/dalon/Files/videoken/diarization-experiments/data-prep-scripts/youtube-dataset\""
   ]
  },
  {
   "cell_type": "code",
   "execution_count": 12,
   "metadata": {},
   "outputs": [],
   "source": [
    "def run_command(command):\n",
    "    \"\"\"\n",
    "        Run the given command in the shell.\n",
    "        input:\n",
    "            command: command string to run in the shell\n",
    "        output:\n",
    "            returncode: return code from the shell\n",
    "            ouput:      output of the command\n",
    "    \"\"\"\n",
    "    process = subprocess.Popen(command, bufsize=2048, shell=True,\n",
    "                               stdin=subprocess.PIPE,\n",
    "                               stdout=subprocess.PIPE,\n",
    "                               stderr=subprocess.PIPE,\n",
    "                               close_fds=(sys.platform != 'win32'))\n",
    "    output = process.communicate()\n",
    "    return process.returncode, output"
   ]
  },
  {
   "cell_type": "code",
   "execution_count": 10,
   "metadata": {},
   "outputs": [],
   "source": [
    "os.makedirs(audio_dest_path, exist_ok=True)"
   ]
  },
  {
   "cell_type": "code",
   "execution_count": 6,
   "metadata": {},
   "outputs": [],
   "source": [
    "with open(timings_path) as f:\n",
    "    data = json.load(f)"
   ]
  },
  {
   "cell_type": "code",
   "execution_count": 11,
   "metadata": {},
   "outputs": [
    {
     "name": "stdout",
     "output_type": "stream",
     "text": [
      "zPFptdATk_s-Interviewer\n",
      "zPFptdATk_s-Interviewee\n",
      "GkOn86EtdNQ-Obama\n",
      "GkOn86EtdNQ-Interviewer\n",
      "e9TC12UQ8og-Interviewer\n",
      "e9TC12UQ8og-Interviewee\n"
     ]
    }
   ],
   "source": [
    "for speaker in data:\n",
    "    print(speaker[\"name\"])"
   ]
  },
  {
   "cell_type": "code",
   "execution_count": 13,
   "metadata": {},
   "outputs": [
    {
     "ename": "SyntaxError",
     "evalue": "f-string: empty expression not allowed (<ipython-input-13-b7e3060d1cec>, line 1)",
     "output_type": "error",
     "traceback": [
      "\u001b[0;36m  File \u001b[0;32m\"<ipython-input-13-b7e3060d1cec>\"\u001b[0;36m, line \u001b[0;32m1\u001b[0m\n\u001b[0;31m    cmd = f'ffmpeg -ss {} -t {} -i {} file.wav'\u001b[0m\n\u001b[0m         ^\u001b[0m\n\u001b[0;31mSyntaxError\u001b[0m\u001b[0;31m:\u001b[0m f-string: empty expression not allowed\n"
     ]
    }
   ],
   "source": [
    "cmd = f'ffmpeg -ss {} -t {} -i {} file.wav'\n",
    "resp, output = run_command(cmd)"
   ]
  },
  {
   "cell_type": "code",
   "execution_count": null,
   "metadata": {},
   "outputs": [],
   "source": []
  }
 ],
 "metadata": {
  "kernelspec": {
   "display_name": "Python 3",
   "language": "python",
   "name": "python3"
  },
  "language_info": {
   "codemirror_mode": {
    "name": "ipython",
    "version": 3
   },
   "file_extension": ".py",
   "mimetype": "text/x-python",
   "name": "python",
   "nbconvert_exporter": "python",
   "pygments_lexer": "ipython3",
   "version": "3.6.6"
  }
 },
 "nbformat": 4,
 "nbformat_minor": 2
}
