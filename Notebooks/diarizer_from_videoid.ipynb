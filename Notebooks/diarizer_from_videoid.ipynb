{
 "cells": [
  {
   "cell_type": "markdown",
   "metadata": {},
   "source": [
    "# Steps in data preparation\n",
    "\n",
    "1. Load the audio using librosa\n",
    "2. Get the duration using librosa.get_duration\n",
    "3. Calculate each frame width in ms\n",
    "4. Split the audio on VAD (Below 20db is silence)\n",
    "5. For each split calculate mel (180 frames) \n",
    "6. np.transpose the data Ex: (1,40,180) to (180,1,40)"
   ]
  },
  {
   "cell_type": "code",
   "execution_count": 6,
   "metadata": {},
   "outputs": [
    {
     "name": "stdout",
     "output_type": "stream",
     "text": [
      "Namespace(M=5, N=4, beta1=0.5, beta2=0.9, comment='', hidden=128, hop=0.01, iteration=100000, loss='softmax', lr=0.01, model_num=6, model_path='./tisv_model', nfft=512, noise_filenum=16, noise_path='/datadrive2/dalon/diarization-experiments/Speaker_Verification/data/VCTK-Corpus/noise', num_layer=3, optim='sgd', proj=64, restore=False, sr=8000, tdsv=False, tdsv_frame=80, test_path='/datadrive2/dalon/diarization-experiments/Speaker_Verification/data/VCTK-Corpus/test', tisv_frame=180, train=False, train_path='/datadrive2/dalon/diarization-experiments/Speaker_Verification/data/VCTK-Corpus/train', window=0.025)\n"
     ]
    }
   ],
   "source": [
    "# All imports\n",
    "import os\n",
    "import librosa\n",
    "import librosa.display\n",
    "import numpy as np\n",
    "import matplotlib.pyplot as plt\n",
    "import datetime\n",
    "\n",
    "import tensorflow as tf\n",
    "import time\n",
    "from utils import normalize, loss_cal, optim\n",
    "from tensorflow.contrib import rnn\n",
    "\n",
    "%matplotlib inline"
   ]
  },
  {
   "cell_type": "code",
   "execution_count": 7,
   "metadata": {},
   "outputs": [],
   "source": [
    "# Configurations\n",
    "tisv_frame = 100 # max frame number of utterances of tdsv\n",
    "hop = 0.01 # 10ms This is frame level precision we will get\n",
    "window = 0.025 # 25ms\n",
    "sr = 8000 # sampling rate\n",
    "nfft = 512 # ft kernel size"
   ]
  },
  {
   "cell_type": "code",
   "execution_count": 8,
   "metadata": {},
   "outputs": [],
   "source": [
    "# audio_path = '/datadrive2/dalon/diarization-experiments/Speaker_Verification/data/zPFptdATk_s_2min.wav'\n",
    "# audio_path = '/datadrive2/dalon/diarization-experiments/Speaker_Verification/data/zPFptdATk_s.wav'\n",
    "audio_path = '/datadrive2/dalon/diarization-experiments/Speaker_Verification/data/e9TC12UQ8og.wav'\n",
    "#audio_path = '/datadrive2/dalon/diarization-experiments/Speaker_Verification/data/VCTK-Corpus/wav48/p259/p259_008.wav'"
   ]
  },
  {
   "cell_type": "code",
   "execution_count": 9,
   "metadata": {},
   "outputs": [],
   "source": [
    "utter_min_len = (tisv_frame * hop + window) * sr    # lower bound of utterance length"
   ]
  },
  {
   "cell_type": "code",
   "execution_count": 10,
   "metadata": {},
   "outputs": [],
   "source": [
    "utter, sr = librosa.core.load(audio_path, sr)        # load audio"
   ]
  },
  {
   "cell_type": "code",
   "execution_count": 11,
   "metadata": {},
   "outputs": [],
   "source": [
    "# Get the duration\n",
    "duration = librosa.get_duration(utter, sr)\n",
    "# Duration of each window\n",
    "duration_per_frame = (duration / utter.shape[0])"
   ]
  },
  {
   "cell_type": "code",
   "execution_count": 12,
   "metadata": {},
   "outputs": [
    {
     "name": "stdout",
     "output_type": "stream",
     "text": [
      "Duration: 2353.15675\n",
      "Duration per frame: 0.000125s\n",
      "Min length of utterance: 1.025s\n"
     ]
    }
   ],
   "source": [
    "print(f'Duration: {duration}\\nDuration per frame: {duration_per_frame}s\\nMin length of utterance: {utter_min_len * duration_per_frame}s')"
   ]
  },
  {
   "cell_type": "code",
   "execution_count": 8,
   "metadata": {},
   "outputs": [],
   "source": [
    "tisv_frame_duration_s = utter_min_len * duration_per_frame"
   ]
  },
  {
   "cell_type": "code",
   "execution_count": 9,
   "metadata": {},
   "outputs": [],
   "source": [
    "intervals = librosa.effects.split(utter, top_db=20)         # voice activity detection"
   ]
  },
  {
   "cell_type": "code",
   "execution_count": 10,
   "metadata": {},
   "outputs": [],
   "source": [
    "intervals_in_s = [[round(block[0] * duration_per_frame, 3), round(block[1] * duration_per_frame, 3)] for block in intervals]"
   ]
  },
  {
   "cell_type": "code",
   "execution_count": 11,
   "metadata": {},
   "outputs": [
    {
     "data": {
      "text/plain": [
       "(0.004544247, 0.0031394924, 0.0032979664, 1.025)"
      ]
     },
     "execution_count": 11,
     "metadata": {},
     "output_type": "execute_result"
    }
   ],
   "source": [
    "utter[2050], utter[2049], utter[2048], tisv_frame_duration_s"
   ]
  },
  {
   "cell_type": "code",
   "execution_count": 12,
   "metadata": {},
   "outputs": [],
   "source": [
    "# plt.figure()\n",
    "# plt.subplot(3, 1, 1)\n",
    "# for interval in intervals:\n",
    "#     librosa.display.waveplot(utter[interval[0]:interval[1]], sr=sr)\n",
    "#     plt.show()\n",
    "# plt.title('Monophonic')"
   ]
  },
  {
   "cell_type": "code",
   "execution_count": 13,
   "metadata": {},
   "outputs": [
    {
     "data": {
      "text/plain": [
       "[[6.592, 9.216],\n",
       " [10.048, 10.368],\n",
       " [10.944, 11.264],\n",
       " [11.968, 12.48],\n",
       " [14.016, 14.72],\n",
       " [15.168, 15.744],\n",
       " [17.984, 18.24],\n",
       " [18.496, 19.584],\n",
       " [19.712, 24.832],\n",
       " [25.024, 25.536]]"
      ]
     },
     "execution_count": 13,
     "metadata": {},
     "output_type": "execute_result"
    }
   ],
   "source": [
    "intervals_in_s[:10]"
   ]
  },
  {
   "cell_type": "code",
   "execution_count": 14,
   "metadata": {},
   "outputs": [
    {
     "name": "stdout",
     "output_type": "stream",
     "text": [
      "(426, 40, 100)\n"
     ]
    }
   ],
   "source": [
    "utterances_spec = []\n",
    "intervals_gt_s = []\n",
    "for index, interval in enumerate(intervals):\n",
    "    if (interval[1]-interval[0]) > utter_min_len:           # If partial utterance is sufficient long,\n",
    "#         intervals_gt_s.append(intervals_in_s[index])\n",
    "        utter_part = utter[interval[0]:interval[1]]         # save first and last 180 frames of spectrogram.\n",
    "        S = librosa.core.stft(y=utter_part, n_fft=nfft,\n",
    "                              win_length=int(window * sr), hop_length=int(hop * sr))\n",
    "        S = np.abs(S) ** 2\n",
    "        mel_basis = librosa.filters.mel(sr=sr, n_fft=nfft, n_mels=40)\n",
    "        S = np.log10(np.dot(mel_basis, S) + 1e-6)           # log mel spectrogram of utterances\n",
    "        \n",
    "        prev_tisv_frame = 0\n",
    "        prev_start = intervals_in_s[index][0]\n",
    "        for i in range(1, S.shape[1]//tisv_frame + 1):\n",
    "#             print(f'{i},{prev_tisv_frame},{tisv_frame * i}')\n",
    "            utterances_spec.append(S[:, prev_tisv_frame:tisv_frame * i])\n",
    "            intervals_gt_s.append([prev_start, prev_start + tisv_frame_duration_s])\n",
    "#             print(prev_start, prev_start + tisv_frame_duration_s)\n",
    "            prev_start = prev_start + tisv_frame_duration_s\n",
    "            prev_tisv_frame = tisv_frame * i\n",
    "#         utterances_spec.append(S[:, :tisv_frame])    # first 180 frames of partial utterance\n",
    "#         utterances_spec.append(S[:, -tisv_frame:])   # last 180 frames of partial utterance\n",
    "#     else:\n",
    "#         print(\"skipping interval\", interval)\n",
    "    \n",
    "utterances_spec = np.array(utterances_spec)\n",
    "print(utterances_spec.shape)"
   ]
  },
  {
   "cell_type": "markdown",
   "metadata": {},
   "source": [
    "# trying to get frames for every interval"
   ]
  },
  {
   "cell_type": "code",
   "execution_count": null,
   "metadata": {},
   "outputs": [],
   "source": []
  },
  {
   "cell_type": "code",
   "execution_count": 15,
   "metadata": {},
   "outputs": [],
   "source": [
    "# utter_start = 0\n",
    "# utter_num = M\n",
    "\n",
    "# utter_batch = []\n",
    "\n",
    "# utters = utterances_spec        # load utterance spectrogram of selected speaker\n",
    "\n",
    "# utter_batch.append(utters[utter_start: utter_start+utter_num])\n",
    "\n",
    "# utter_batch = np.concatenate(utter_batch, axis=0)     # utterance batch [batch(NM), n_mels, frames]\n",
    "\n",
    "# utter_batch = utter_batch[:,:,:160]               # for test session, fixed length slicing of input batch\n",
    "\n",
    "utter_batch = np.transpose(utterances_spec, axes=(2,0,1))     # transpose [frames, batch, n_mels]"
   ]
  },
  {
   "cell_type": "code",
   "execution_count": null,
   "metadata": {},
   "outputs": [],
   "source": []
  },
  {
   "cell_type": "code",
   "execution_count": 16,
   "metadata": {},
   "outputs": [
    {
     "data": {
      "text/plain": [
       "(100, 426, 40)"
      ]
     },
     "execution_count": 16,
     "metadata": {},
     "output_type": "execute_result"
    }
   ],
   "source": [
    "utter_batch.shape"
   ]
  },
  {
   "cell_type": "code",
   "execution_count": 17,
   "metadata": {},
   "outputs": [
    {
     "name": "stdout",
     "output_type": "stream",
     "text": [
      "WARNING:tensorflow:From /datadrive2/dalon/diarization-experiments/Speaker_Verification/utils.py:100: calling reduce_sum (from tensorflow.python.ops.math_ops) with keep_dims is deprecated and will be removed in a future version.\n",
      "Instructions for updating:\n",
      "keep_dims is deprecated, use keepdims instead\n",
      "embedded size:  (426, 64)\n",
      "model path : /datadrive2/dalon/diarization-experiments/Speaker_Verification/tisv_model_4-5-25thSep-bck\n",
      "ckpt file is loaded ! /datadrive2/dalon/diarization-experiments/Speaker_Verification/tisv_model_4-5-25thSep-bck/Check_Point/model.ckpt-5\n",
      "INFO:tensorflow:Restoring parameters from /datadrive2/dalon/diarization-experiments/Speaker_Verification/tisv_model_4-5-25thSep-bck/Check_Point/model.ckpt-5\n"
     ]
    }
   ],
   "source": [
    "hidden = 128\n",
    "proj = 64\n",
    "num_layer =3\n",
    "path = '/datadrive2/dalon/diarization-experiments/Speaker_Verification/tisv_model_4-5-25thSep-bck'\n",
    "model_num = 5\n",
    "\n",
    "tf.reset_default_graph()\n",
    "batch_size = utter_batch.shape[1]\n",
    "\n",
    "# draw graph\n",
    "# enroll is ground truth \n",
    "# verif is the actual output\n",
    "#enroll = tf.placeholder(shape=[None, batch_size, 40], dtype=tf.float32) # enrollment batch (time x batch x n_mel)\n",
    "verif = tf.placeholder(shape=[None, batch_size, 40], dtype=tf.float32)  # verification batch (time x batch x n_mel)\n",
    "batch = tf.concat([verif,], axis=1)\n",
    "\n",
    "# embedding lstm (3-layer default)\n",
    "with tf.variable_scope(\"lstm\"):\n",
    "    lstm_cells = [tf.contrib.rnn.LSTMCell(num_units=hidden, num_proj=proj) for i in range(num_layer)]\n",
    "    lstm = tf.contrib.rnn.MultiRNNCell(lstm_cells)    # make lstm op and variables\n",
    "    outputs, _ = tf.nn.dynamic_rnn(cell=lstm, inputs=batch, dtype=tf.float32, time_major=True)   # for TI-VS must use dynamic rnn\n",
    "    embedded = outputs[-1]                            # the last ouput is the embedded d-vector\n",
    "    embedded = normalize(embedded)                    # normalize\n",
    "\n",
    "print(\"embedded size: \", embedded.shape)\n",
    "\n",
    "# enrollment embedded vectors (speaker model)\n",
    "# enroll_embed = normalize(tf.reduce_mean(tf.reshape(embedded[:batch_size, :], shape= [config.N, config.M, -1]), axis=1))\n",
    "# verification embedded vectors\n",
    "# verif_embed = embedded[config.N*config.M:, :]\n",
    "\n",
    "# similarity_matrix = similarity(embedded=verif_embed, w=1., b=0., center=enroll_embed)\n",
    "\n",
    "saver = tf.train.Saver(var_list=tf.global_variables())\n",
    "with tf.Session() as sess:\n",
    "    tf.global_variables_initializer().run()\n",
    "\n",
    "    # load model\n",
    "    print(\"model path :\", path)\n",
    "    ckpt = tf.train.get_checkpoint_state(checkpoint_dir=os.path.join(path, \"Check_Point\"))\n",
    "    ckpt_list = ckpt.all_model_checkpoint_paths\n",
    "    loaded = 0\n",
    "    for model in ckpt_list:\n",
    "        if model_num == int(model[-1]):    # find ckpt file which matches configuration model number\n",
    "            print(\"ckpt file is loaded !\", model)\n",
    "            loaded = 1\n",
    "            saver.restore(sess, model)  # restore variables from selected ckpt file\n",
    "            break\n",
    "\n",
    "    if loaded == 0:\n",
    "        raise AssertionError(\"ckpt file does not exist! Check config.model_num or config.model_path.\")\n",
    "\n",
    "\n",
    "    # return similarity matrix after enrollment and verification\n",
    "    time1 = time.time() # for check inference time\n",
    "#     if config.tdsv:\n",
    "#         S = sess.run(similarity_matrix, feed_dict={enroll:random_batch(shuffle=False, noise_filenum=1),\n",
    "#                                                    verif:random_batch(shuffle=False, noise_filenum=2)})\n",
    "#     else:\n",
    "    S = sess.run(embedded, feed_dict={verif:utter_batch})\n",
    "    \n",
    "    time2 = time.time()\n",
    "\n",
    "#     print(S)    # print similarity matrix\n"
   ]
  },
  {
   "cell_type": "code",
   "execution_count": 18,
   "metadata": {},
   "outputs": [
    {
     "data": {
      "text/plain": [
       "(426, 64)"
      ]
     },
     "execution_count": 18,
     "metadata": {},
     "output_type": "execute_result"
    }
   ],
   "source": [
    "S.shape"
   ]
  },
  {
   "cell_type": "markdown",
   "metadata": {},
   "source": [
    "# clustering"
   ]
  },
  {
   "cell_type": "code",
   "execution_count": 39,
   "metadata": {},
   "outputs": [],
   "source": [
    "from sklearn.cluster import KMeans, MiniBatchKMeans, SpectralClustering, AgglomerativeClustering, DBSCAN"
   ]
  },
  {
   "cell_type": "code",
   "execution_count": 40,
   "metadata": {},
   "outputs": [],
   "source": [
    "# k_means = AgglomerativeClustering().fit(S)"
   ]
  },
  {
   "cell_type": "code",
   "execution_count": 41,
   "metadata": {},
   "outputs": [],
   "source": [
    "k_means = DBSCAN(eps=3, min_samples=2).fit(S)"
   ]
  },
  {
   "cell_type": "code",
   "execution_count": 31,
   "metadata": {},
   "outputs": [],
   "source": [
    "# k_means = MiniBatchKMeans(n_clusters=2,\n",
    "#         random_state=0,\n",
    "#         batch_size=6).fit(S[11:])"
   ]
  },
  {
   "cell_type": "code",
   "execution_count": 32,
   "metadata": {},
   "outputs": [],
   "source": [
    "# k_means = SpectralClustering(n_clusters=2,\n",
    "#        assign_labels=\"discretize\",\n",
    "#        random_state=0).fit(S)"
   ]
  },
  {
   "cell_type": "code",
   "execution_count": 33,
   "metadata": {},
   "outputs": [],
   "source": [
    "# k_means = KMeans(n_clusters = 2)\n",
    "# k_means.fit(S)"
   ]
  },
  {
   "cell_type": "code",
   "execution_count": 42,
   "metadata": {},
   "outputs": [],
   "source": [
    "cls = k_means.labels_ "
   ]
  },
  {
   "cell_type": "code",
   "execution_count": 43,
   "metadata": {},
   "outputs": [
    {
     "data": {
      "text/plain": [
       "(426,)"
      ]
     },
     "execution_count": 43,
     "metadata": {},
     "output_type": "execute_result"
    }
   ],
   "source": [
    "cls.shape"
   ]
  },
  {
   "cell_type": "code",
   "execution_count": 44,
   "metadata": {},
   "outputs": [],
   "source": [
    "# cls"
   ]
  },
  {
   "cell_type": "code",
   "execution_count": 45,
   "metadata": {},
   "outputs": [
    {
     "data": {
      "text/plain": [
       "426"
      ]
     },
     "execution_count": 45,
     "metadata": {},
     "output_type": "execute_result"
    }
   ],
   "source": [
    "len(intervals_gt_s)"
   ]
  },
  {
   "cell_type": "code",
   "execution_count": 46,
   "metadata": {},
   "outputs": [
    {
     "name": "stdout",
     "output_type": "stream",
     "text": [
      "0:00:06.592000==0:00:07.617000->0\n",
      "0:00:07.617000==0:00:08.642000->0\n",
      "0:00:18.496000==0:00:19.521000->0\n",
      "0:00:19.712000==0:00:20.737000->0\n",
      "0:00:20.737000==0:00:21.762000->0\n",
      "0:00:21.762000==0:00:22.787000->0\n",
      "0:00:22.787000==0:00:23.812000->0\n",
      "0:00:23.812000==0:00:24.837000->0\n",
      "0:00:26.752000==0:00:27.777000->0\n",
      "0:00:27.777000==0:00:28.802000->0\n",
      "0:00:31.616000==0:00:32.641000->0\n",
      "0:00:32.641000==0:00:33.666000->0\n",
      "0:00:33.666000==0:00:34.691000->0\n",
      "0:00:35.584000==0:00:36.609000->0\n",
      "0:00:36.609000==0:00:37.634000->0\n",
      "0:00:40==0:00:41.025000->0\n",
      "0:00:41.025000==0:00:42.050000->0\n",
      "0:00:42.944000==0:00:43.969000->0\n",
      "0:00:43.969000==0:00:44.994000->0\n",
      "0:00:46.080000==0:00:47.105000->0\n",
      "0:00:49.280000==0:00:50.305000->0\n",
      "0:00:58.496000==0:00:59.521000->0\n",
      "0:01:05.536000==0:01:06.561000->0\n",
      "0:01:06.561000==0:01:07.586000->0\n",
      "0:01:07.586000==0:01:08.611000->0\n",
      "0:01:09.440000==0:01:10.465000->0\n",
      "0:01:14.624000==0:01:15.649000->0\n",
      "0:01:15.649000==0:01:16.674000->0\n",
      "0:01:16.928000==0:01:17.953000->0\n",
      "0:01:18.656000==0:01:19.681000->0\n",
      "0:01:19.681000==0:01:20.706000->0\n",
      "0:01:23.328000==0:01:24.353000->0\n",
      "0:01:24.608000==0:01:25.633000->0\n",
      "0:01:27.296000==0:01:28.321000->0\n",
      "0:01:41.696000==0:01:42.721000->0\n",
      "0:01:47.456000==0:01:48.481000->0\n",
      "0:01:48.481000==0:01:49.506000->0\n",
      "0:01:53.600000==0:01:54.625000->0\n",
      "0:01:57.248000==0:01:58.273000->0\n",
      "0:02:07.040000==0:02:08.065000->0\n",
      "0:02:08.065000==0:02:09.090000->0\n",
      "0:02:10.304000==0:02:11.329000->0\n",
      "0:02:11.329000==0:02:12.354000->0\n",
      "0:02:13.760000==0:02:14.785000->0\n",
      "0:02:15.872000==0:02:16.897000->0\n",
      "0:02:24==0:02:25.025000->0\n",
      "0:02:31.680000==0:02:32.705000->0\n",
      "0:02:36.544000==0:02:37.569000->0\n",
      "0:02:39.040000==0:02:40.065000->0\n",
      "0:02:44.480000==0:02:45.505000->0\n",
      "0:03:08.544000==0:03:09.569000->0\n",
      "0:03:20.384000==0:03:21.409000->0\n",
      "0:03:35.744000==0:03:36.769000->0\n",
      "0:03:36.769000==0:03:37.794000->0\n",
      "0:03:38.240000==0:03:39.265000->0\n",
      "0:03:40.928000==0:03:41.953000->0\n",
      "0:03:41.953000==0:03:42.978000->0\n",
      "0:03:48.224000==0:03:49.249000->0\n",
      "0:03:49.249000==0:03:50.274000->0\n",
      "0:03:57.952000==0:03:58.977000->0\n",
      "0:04:01.280000==0:04:02.305000->0\n",
      "0:04:04.736000==0:04:05.761000->0\n",
      "0:04:06.336000==0:04:07.361000->0\n",
      "0:04:11.136000==0:04:12.161000->0\n",
      "0:04:12.992000==0:04:14.017000->0\n",
      "0:04:14.017000==0:04:15.042000->0\n",
      "0:04:15.042000==0:04:16.067000->0\n",
      "0:04:16.067000==0:04:17.092000->0\n",
      "0:04:18.304000==0:04:19.329000->0\n",
      "0:04:19.776000==0:04:20.801000->0\n",
      "0:04:24.832000==0:04:25.857000->0\n",
      "0:04:25.857000==0:04:26.882000->0\n",
      "0:04:27.968000==0:04:28.993000->0\n",
      "0:04:29.184000==0:04:30.209000->0\n",
      "0:04:30.209000==0:04:31.234000->0\n",
      "0:04:31.234000==0:04:32.259000->0\n",
      "0:04:35.136000==0:04:36.161000->0\n",
      "0:04:39.232000==0:04:40.257000->0\n",
      "0:04:48.576000==0:04:49.601000->0\n",
      "0:04:51.136000==0:04:52.161000->0\n",
      "0:04:54.592000==0:04:55.617000->0\n",
      "0:05:05.280000==0:05:06.305000->0\n",
      "0:05:21.408000==0:05:22.433000->0\n",
      "0:05:22.816000==0:05:23.841000->0\n",
      "0:05:30.304000==0:05:31.329000->0\n",
      "0:05:32.864000==0:05:33.889000->0\n",
      "0:05:39.264000==0:05:40.289000->0\n",
      "0:05:40.736000==0:05:41.761000->0\n",
      "0:05:42.848000==0:05:43.873000->0\n",
      "0:05:43.873000==0:05:44.898000->0\n",
      "0:05:46.944000==0:05:47.969000->0\n",
      "0:05:51.296000==0:05:52.321000->0\n",
      "0:05:52.321000==0:05:53.346000->0\n",
      "0:05:53.346000==0:05:54.371000->0\n",
      "0:05:54.880000==0:05:55.905000->0\n",
      "0:05:58.784000==0:05:59.809000->0\n",
      "0:05:59.809000==0:06:00.834000->0\n",
      "0:06:00.834000==0:06:01.859000->0\n",
      "0:06:02.816000==0:06:03.841000->0\n",
      "0:06:03.841000==0:06:04.866000->0\n",
      "0:06:12.608000==0:06:13.633000->0\n",
      "0:06:40.896000==0:06:41.921000->0\n",
      "0:06:53.504000==0:06:54.529000->0\n",
      "0:06:54.529000==0:06:55.554000->0\n",
      "0:07:03.808000==0:07:04.833000->0\n",
      "0:07:07.776000==0:07:08.801000->0\n",
      "0:08:02.176000==0:08:03.201000->0\n",
      "0:08:39.616000==0:08:40.641000->0\n",
      "0:08:46.464000==0:08:47.489000->0\n",
      "0:08:53.952000==0:08:54.977000->0\n",
      "0:08:57.024000==0:08:58.049000->0\n",
      "0:09:01.760000==0:09:02.785000->0\n",
      "0:09:04.640000==0:09:05.665000->0\n",
      "0:09:07.584000==0:09:08.609000->0\n",
      "0:09:10.656000==0:09:11.681000->0\n",
      "0:09:34.976000==0:09:36.001000->0\n",
      "0:09:42.848000==0:09:43.873000->0\n",
      "0:09:45.984000==0:09:47.009000->0\n",
      "0:09:47.009000==0:09:48.034000->0\n",
      "0:09:51.488000==0:09:52.513000->0\n",
      "0:09:52.513000==0:09:53.538000->0\n",
      "0:09:53.538000==0:09:54.563000->0\n",
      "0:10:03.712000==0:10:04.737000->0\n",
      "0:10:05.888000==0:10:06.913000->0\n",
      "0:10:08.832000==0:10:09.857000->0\n",
      "0:10:11.200000==0:10:12.225000->0\n",
      "0:10:12.672000==0:10:13.697000->0\n",
      "0:10:21.504000==0:10:22.529000->0\n",
      "0:10:32.640000==0:10:33.665000->0\n",
      "0:10:33.665000==0:10:34.690000->0\n",
      "0:10:38.784000==0:10:39.809000->0\n",
      "0:10:39.809000==0:10:40.834000->0\n",
      "0:10:41.280000==0:10:42.305000->0\n",
      "0:10:46.464000==0:10:47.489000->0\n",
      "0:10:50.496000==0:10:51.521000->0\n",
      "0:10:54.592000==0:10:55.617000->0\n",
      "0:11:35.488000==0:11:36.513000->0\n",
      "0:11:42.784000==0:11:43.809000->0\n",
      "0:11:47.200000==0:11:48.225000->0\n",
      "0:12:20.224000==0:12:21.249000->0\n",
      "0:12:21.888000==0:12:22.913000->0\n",
      "0:12:27.264000==0:12:28.289000->0\n",
      "0:12:32.448000==0:12:33.473000->0\n",
      "0:12:33.473000==0:12:34.498000->0\n",
      "0:12:39.232000==0:12:40.257000->0\n",
      "0:12:40.257000==0:12:41.282000->0\n",
      "0:12:41.282000==0:12:42.307000->0\n",
      "0:12:43.264000==0:12:44.289000->0\n",
      "0:12:46.144000==0:12:47.169000->0\n",
      "0:12:47.169000==0:12:48.194000->0\n",
      "0:12:48.194000==0:12:49.219000->0\n",
      "0:12:49.219000==0:12:50.244000->0\n",
      "0:12:50.944000==0:12:51.969000->0\n",
      "0:13:29.280000==0:13:30.305000->0\n",
      "0:14:32.384000==0:14:33.409000->0\n",
      "0:14:33.409000==0:14:34.434000->0\n",
      "0:14:34.624000==0:14:35.649000->0\n",
      "0:14:36.992000==0:14:38.017000->0\n",
      "0:14:39.680000==0:14:40.705000->0\n",
      "0:14:46.336000==0:14:47.361000->0\n",
      "0:14:47.361000==0:14:48.386000->0\n",
      "0:14:48.960000==0:14:49.985000->0\n",
      "0:14:54.848000==0:14:55.873000->0\n",
      "0:14:58.560000==0:14:59.585000->0\n",
      "0:15:11.168000==0:15:12.193000->0\n",
      "0:15:12.960000==0:15:13.985000->0\n",
      "0:15:17.312000==0:15:18.337000->0\n",
      "0:15:19.424000==0:15:20.449000->0\n",
      "0:15:20.449000==0:15:21.474000->0\n",
      "0:15:24.032000==0:15:25.057000->0\n",
      "0:15:35.040000==0:15:36.065000->0\n",
      "0:15:36.065000==0:15:37.090000->0\n",
      "0:15:39.392000==0:15:40.417000->0\n",
      "0:15:50.912000==0:15:51.937000->0\n",
      "0:16:16.832000==0:16:17.857000->0\n",
      "0:16:24==0:16:25.025000->0\n",
      "0:16:25.025000==0:16:26.050000->0\n",
      "0:16:38.016000==0:16:39.041000->0\n",
      "0:16:40.896000==0:16:41.921000->0\n",
      "0:16:42.624000==0:16:43.649000->0\n",
      "0:16:43.649000==0:16:44.674000->0\n",
      "0:16:44.674000==0:16:45.699000->0\n",
      "0:16:46.016000==0:16:47.041000->0\n",
      "0:16:49.344000==0:16:50.369000->0\n",
      "0:16:51.264000==0:16:52.289000->0\n",
      "0:16:53.504000==0:16:54.529000->0\n",
      "0:16:54.529000==0:16:55.554000->0\n",
      "0:16:55.554000==0:16:56.579000->0\n",
      "0:16:57.856000==0:16:58.881000->0\n",
      "0:17:00.032000==0:17:01.057000->0\n",
      "0:17:03.744000==0:17:04.769000->0\n",
      "0:17:04.769000==0:17:05.794000->0\n",
      "0:17:10.464000==0:17:11.489000->0\n",
      "0:17:14.816000==0:17:15.841000->0\n",
      "0:17:18.912000==0:17:19.937000->0\n",
      "0:17:21.152000==0:17:22.177000->0\n",
      "0:17:23.456000==0:17:24.481000->0\n",
      "0:17:24.481000==0:17:25.506000->0\n",
      "0:17:27.360000==0:17:28.385000->0\n",
      "0:17:29.152000==0:17:30.177000->0\n",
      "0:17:33.056000==0:17:34.081000->0\n",
      "0:17:34.081000==0:17:35.106000->0\n",
      "0:17:37.600000==0:17:38.625000->0\n",
      "0:17:38.625000==0:17:39.650000->0\n",
      "0:17:49.184000==0:17:50.209000->0\n",
      "0:18:13.824000==0:18:14.849000->0\n",
      "0:18:14.849000==0:18:15.874000->0\n",
      "0:18:15.874000==0:18:16.899000->0\n",
      "0:18:16.899000==0:18:17.924000->0\n",
      "0:18:17.924000==0:18:18.949000->0\n",
      "0:18:20.096000==0:18:21.121000->0\n",
      "0:18:22.784000==0:18:23.809000->0\n",
      "0:18:24.896000==0:18:25.921000->0\n",
      "0:18:27.456000==0:18:28.481000->0\n",
      "0:18:28.481000==0:18:29.506000->0\n",
      "0:18:29.506000==0:18:30.531000->0\n",
      "0:18:31.168000==0:18:32.193000->0\n",
      "0:18:32.193000==0:18:33.218000->0\n",
      "0:18:33.218000==0:18:34.243000->0\n",
      "0:18:39.424000==0:18:40.449000->0\n",
      "0:18:42.048000==0:18:43.073000->0\n",
      "0:18:44.864000==0:18:45.889000->0\n",
      "0:18:46.272000==0:18:47.297000->0\n",
      "0:18:47.297000==0:18:48.322000->0\n",
      "0:18:51.968000==0:18:52.993000->0\n",
      "0:18:53.888000==0:18:54.913000->0\n",
      "0:19:09.440000==0:19:10.465000->0\n",
      "0:19:22.176000==0:19:23.201000->0\n",
      "0:20:05.760000==0:20:06.785000->0\n",
      "0:20:07.680000==0:20:08.705000->0\n",
      "0:20:40==0:20:41.025000->0\n",
      "0:20:41.025000==0:20:42.050000->0\n",
      "0:20:42.050000==0:20:43.075000->0\n",
      "0:20:51.072000==0:20:52.097000->0\n",
      "0:20:54.976000==0:20:56.001000->0\n",
      "0:20:56.001000==0:20:57.026000->0\n",
      "0:20:57.026000==0:20:58.051000->0\n",
      "0:20:59.520000==0:21:00.545000->0\n",
      "0:21:01.120000==0:21:02.145000->0\n",
      "0:21:04.256000==0:21:05.281000->0\n",
      "0:21:07.904000==0:21:08.929000->0\n",
      "0:21:11.232000==0:21:12.257000->0\n",
      "0:21:13.600000==0:21:14.625000->0\n",
      "0:21:25.184000==0:21:26.209000->0\n",
      "0:21:30.240000==0:21:31.265000->0\n",
      "0:21:32.864000==0:21:33.889000->0\n",
      "0:21:35.168000==0:21:36.193000->0\n",
      "0:21:39.904000==0:21:40.929000->0\n",
      "0:21:45.152000==0:21:46.177000->0\n",
      "0:21:46.177000==0:21:47.202000->0\n",
      "0:21:47.202000==0:21:48.227000->0\n",
      "0:21:49.952000==0:21:50.977000->0\n",
      "0:21:55.200000==0:21:56.225000->0\n",
      "0:21:56.544000==0:21:57.569000->0\n",
      "0:22:06.976000==0:22:08.001000->0\n",
      "0:22:11.520000==0:22:12.545000->0\n",
      "0:22:54.848000==0:22:55.873000->0\n",
      "0:23:00.736000==0:23:01.761000->0\n",
      "0:23:06.624000==0:23:07.649000->0\n",
      "0:23:22.240000==0:23:23.265000->0\n",
      "0:23:24.288000==0:23:25.313000->0\n",
      "0:23:25.313000==0:23:26.338000->0\n",
      "0:23:28.448000==0:23:29.473000->0\n",
      "0:23:47.200000==0:23:48.225000->0\n",
      "0:23:52.512000==0:23:53.537000->0\n",
      "0:23:53.537000==0:23:54.562000->0\n",
      "0:24:31.680000==0:24:32.705000->0\n",
      "0:24:32.705000==0:24:33.730000->0\n",
      "0:24:33.730000==0:24:34.755000->0\n",
      "0:24:35.904000==0:24:36.929000->0\n",
      "0:24:36.929000==0:24:37.954000->0\n",
      "0:24:40.064000==0:24:41.089000->0\n",
      "0:24:41.089000==0:24:42.114000->0\n",
      "0:24:42.114000==0:24:43.139000->0\n",
      "0:24:46.656000==0:24:47.681000->0\n",
      "0:24:47.681000==0:24:48.706000->0\n",
      "0:24:53.120000==0:24:54.145000->0\n",
      "0:24:58.688000==0:24:59.713000->0\n",
      "0:25:02.144000==0:25:03.169000->0\n",
      "0:25:04.896000==0:25:05.921000->0\n",
      "0:25:09.056000==0:25:10.081000->0\n",
      "0:25:13.728000==0:25:14.753000->0\n",
      "0:25:18.400000==0:25:19.425000->0\n",
      "0:25:21.216000==0:25:22.241000->0\n",
      "0:25:26.208000==0:25:27.233000->0\n",
      "0:25:27.233000==0:25:28.258000->0\n",
      "0:25:28.258000==0:25:29.283000->0\n",
      "0:25:30.112000==0:25:31.137000->0\n",
      "0:25:31.137000==0:25:32.162000->0\n",
      "0:25:32.162000==0:25:33.187000->0\n",
      "0:25:33.187000==0:25:34.212000->0\n",
      "0:25:36.576000==0:25:37.601000->0\n",
      "0:25:41.760000==0:25:42.785000->0\n",
      "0:25:45.536000==0:25:46.561000->0\n",
      "0:26:18.688000==0:26:19.713000->0\n",
      "0:26:29.248000==0:26:30.273000->0\n",
      "0:26:59.648000==0:27:00.673000->0\n",
      "0:27:02.784000==0:27:03.809000->0\n",
      "0:27:07.904000==0:27:08.929000->0\n",
      "0:27:10.080000==0:27:11.105000->0\n",
      "0:27:11.105000==0:27:12.130000->0\n",
      "0:27:15.648000==0:27:16.673000->0\n",
      "0:27:18.976000==0:27:20.001000->0\n",
      "0:27:21.408000==0:27:22.433000->0\n",
      "0:27:22.433000==0:27:23.458000->0\n",
      "0:27:23.458000==0:27:24.483000->0\n",
      "0:27:25.504000==0:27:26.529000->0\n",
      "0:27:27.488000==0:27:28.513000->0\n",
      "0:27:29.152000==0:27:30.177000->0\n",
      "0:27:30.177000==0:27:31.202000->0\n",
      "0:27:31.202000==0:27:32.227000->0\n",
      "0:27:33.312000==0:27:34.337000->0\n",
      "0:27:34.337000==0:27:35.362000->0\n",
      "0:27:35.362000==0:27:36.387000->0\n",
      "0:27:36.387000==0:27:37.412000->0\n",
      "0:27:38.624000==0:27:39.649000->0\n",
      "0:27:41.568000==0:27:42.593000->0\n",
      "0:27:42.593000==0:27:43.618000->0\n",
      "0:27:46.176000==0:27:47.201000->0\n",
      "0:27:47.201000==0:27:48.226000->0\n",
      "0:27:48.226000==0:27:49.251000->0\n",
      "0:27:53.600000==0:27:54.625000->0\n",
      "0:27:55.904000==0:27:56.929000->0\n",
      "0:28:34.368000==0:28:35.393000->0\n",
      "0:29:05.664000==0:29:06.689000->0\n",
      "0:29:09.312000==0:29:10.337000->0\n",
      "0:29:12.192000==0:29:13.217000->0\n",
      "0:29:21.408000==0:29:22.433000->0\n",
      "0:29:22.433000==0:29:23.458000->0\n",
      "0:29:23.458000==0:29:24.483000->0\n",
      "0:29:28.896000==0:29:29.921000->0\n",
      "0:29:36.192000==0:29:37.217000->0\n",
      "0:29:39.520000==0:29:40.545000->0\n",
      "0:29:40.545000==0:29:41.570000->0\n",
      "0:29:42.464000==0:29:43.489000->0\n",
      "0:29:45.408000==0:29:46.433000->0\n",
      "0:29:50.400000==0:29:51.425000->0\n",
      "0:29:55.904000==0:29:56.929000->0\n",
      "0:30:07.616000==0:30:08.641000->0\n",
      "0:30:09.344000==0:30:10.369000->0\n",
      "0:30:32.320000==0:30:33.345000->0\n",
      "0:30:39.936000==0:30:40.961000->0\n",
      "0:31:21.664000==0:31:22.689000->0\n",
      "0:31:37.920000==0:31:38.945000->0\n",
      "0:31:42.848000==0:31:43.873000->0\n",
      "0:32:55.296000==0:32:56.321000->0\n",
      "0:33:00.928000==0:33:01.953000->0\n",
      "0:33:06.368000==0:33:07.393000->0\n",
      "0:33:09.248000==0:33:10.273000->0\n",
      "0:33:10.273000==0:33:11.298000->0\n",
      "0:33:26.208000==0:33:27.233000->0\n",
      "0:33:28.256000==0:33:29.281000->0\n",
      "0:33:29.281000==0:33:30.306000->0\n",
      "0:33:31.456000==0:33:32.481000->0\n",
      "0:33:32.481000==0:33:33.506000->0\n",
      "0:33:33.506000==0:33:34.531000->0\n",
      "0:33:35.232000==0:33:36.257000->0\n",
      "0:33:38.816000==0:33:39.841000->0\n",
      "0:33:54.176000==0:33:55.201000->0\n",
      "0:33:55.520000==0:33:56.545000->0\n",
      "0:33:56.545000==0:33:57.570000->0\n",
      "0:33:59.488000==0:34:00.513000->0\n",
      "0:34:00.513000==0:34:01.538000->0\n",
      "0:34:01.856000==0:34:02.881000->0\n",
      "0:34:02.881000==0:34:03.906000->0\n",
      "0:34:04.928000==0:34:05.953000->0\n",
      "0:34:05.953000==0:34:06.978000->0\n",
      "0:34:15.424000==0:34:16.449000->0\n",
      "0:34:28.160000==0:34:29.185000->0\n",
      "0:34:37.568000==0:34:38.593000->0\n",
      "0:34:43.648000==0:34:44.673000->0\n",
      "0:34:46.720000==0:34:47.745000->0\n",
      "0:34:51.712000==0:34:52.737000->0\n",
      "0:35:24.864000==0:35:25.889000->0\n",
      "0:35:31.520000==0:35:32.545000->0\n",
      "0:35:35.616000==0:35:36.641000->0\n",
      "0:35:38.752000==0:35:39.777000->0\n",
      "0:35:43.616000==0:35:44.641000->0\n",
      "0:35:51.744000==0:35:52.769000->0\n",
      "0:35:56.928000==0:35:57.953000->0\n",
      "0:36:00.192000==0:36:01.217000->0\n",
      "0:36:03.776000==0:36:04.801000->0\n",
      "0:36:07.488000==0:36:08.513000->0\n",
      "0:36:10.944000==0:36:11.969000->0\n",
      "0:36:15.040000==0:36:16.065000->0\n",
      "0:36:16.065000==0:36:17.090000->0\n",
      "0:36:20.480000==0:36:21.505000->0\n",
      "0:36:21.505000==0:36:22.530000->0\n",
      "0:36:22.530000==0:36:23.555000->0\n",
      "0:36:30.400000==0:36:31.425000->0\n",
      "0:36:33.088000==0:36:34.113000->0\n",
      "0:36:35.136000==0:36:36.161000->0\n",
      "0:36:38.336000==0:36:39.361000->0\n",
      "0:36:40.064000==0:36:41.089000->0\n",
      "0:36:41.856000==0:36:42.881000->0\n",
      "0:36:44.672000==0:36:45.697000->0\n",
      "0:36:56.384000==0:36:57.409000->0\n",
      "0:36:58.112000==0:36:59.137000->0\n",
      "0:37:01.952000==0:37:02.977000->0\n",
      "0:37:10.720000==0:37:11.745000->0\n",
      "0:37:42.208000==0:37:43.233000->0\n",
      "0:37:51.936000==0:37:52.961000->0\n",
      "0:37:55.456000==0:37:56.481000->0\n",
      "0:37:56.481000==0:37:57.506000->0\n",
      "0:37:57.506000==0:37:58.531000->0\n",
      "0:38:03.968000==0:38:04.993000->0\n",
      "0:38:06.208000==0:38:07.233000->0\n",
      "0:38:10.944000==0:38:11.969000->0\n",
      "0:38:11.969000==0:38:12.994000->0\n",
      "0:38:17.600000==0:38:18.625000->0\n",
      "0:38:20.032000==0:38:21.057000->0\n",
      "0:38:24.192000==0:38:25.217000->0\n",
      "0:38:31.680000==0:38:32.705000->0\n",
      "0:38:32.832000==0:38:33.857000->0\n",
      "0:38:39.808000==0:38:40.833000->0\n",
      "0:38:40.833000==0:38:41.858000->0\n",
      "0:38:48.384000==0:38:49.409000->0\n",
      "0:38:49.409000==0:38:50.434000->0\n",
      "0:38:57.600000==0:38:58.625000->0\n",
      "0:38:58.816000==0:38:59.841000->0\n",
      "0:38:59.841000==0:39:00.866000->0\n",
      "0:39:00.866000==0:39:01.891000->0\n",
      "0:39:01.891000==0:39:02.916000->0\n",
      "0:39:02.916000==0:39:03.941000->0\n",
      "0:39:03.941000==0:39:04.966000->0\n",
      "0:39:04.966000==0:39:05.991000->0\n"
     ]
    }
   ],
   "source": [
    "for index, c in enumerate(cls):\n",
    "    print(f'{datetime.timedelta(seconds=intervals_gt_s[index][0])}=={datetime.timedelta(seconds=intervals_gt_s[index][1])}->{c}')"
   ]
  },
  {
   "cell_type": "code",
   "execution_count": 28,
   "metadata": {},
   "outputs": [],
   "source": [
    "# import IPython\n",
    "# IPython.display.Audio(audio_path)"
   ]
  },
  {
   "cell_type": "code",
   "execution_count": null,
   "metadata": {},
   "outputs": [],
   "source": []
  },
  {
   "cell_type": "code",
   "execution_count": null,
   "metadata": {},
   "outputs": [],
   "source": []
  },
  {
   "cell_type": "code",
   "execution_count": null,
   "metadata": {},
   "outputs": [],
   "source": []
  },
  {
   "cell_type": "code",
   "execution_count": null,
   "metadata": {},
   "outputs": [],
   "source": []
  },
  {
   "cell_type": "code",
   "execution_count": 24,
   "metadata": {},
   "outputs": [
    {
     "name": "stdout",
     "output_type": "stream",
     "text": [
      "Min length of utterance: 0.48s\n"
     ]
    }
   ],
   "source": [
    "# just test config\n",
    "# Configurations\n",
    "tisv_frame = 2 # max frame number of utterances of tdsv\n",
    "hop = 0.12 # 10ms This is frame level precision we will get\n",
    "window = 0.24 # 25ms\n",
    "sr = 8000 # sampling rate\n",
    "nfft = 512 # ft kernel size\n",
    "duration_per_frame = 0.000125 # in s\n",
    "utter_min_len = (tisv_frame * hop + window) * sr    # lower bound of utterance length\n",
    "print(f'Min length of utterance: {utter_min_len * duration_per_frame}s')"
   ]
  },
  {
   "cell_type": "code",
   "execution_count": null,
   "metadata": {},
   "outputs": [],
   "source": []
  },
  {
   "cell_type": "code",
   "execution_count": null,
   "metadata": {},
   "outputs": [],
   "source": []
  }
 ],
 "metadata": {
  "kernelspec": {
   "display_name": "Python 3",
   "language": "python",
   "name": "python3"
  },
  "language_info": {
   "codemirror_mode": {
    "name": "ipython",
    "version": 3
   },
   "file_extension": ".py",
   "mimetype": "text/x-python",
   "name": "python",
   "nbconvert_exporter": "python",
   "pygments_lexer": "ipython3",
   "version": "3.6.6"
  }
 },
 "nbformat": 4,
 "nbformat_minor": 2
}
