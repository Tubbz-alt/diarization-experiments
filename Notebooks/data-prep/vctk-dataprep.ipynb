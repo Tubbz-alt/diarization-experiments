{
 "cells": [
  {
   "cell_type": "code",
   "execution_count": 1,
   "metadata": {},
   "outputs": [],
   "source": [
    "import os, sys, shutil, logging, pickle, subprocess\n",
    "from glob import glob\n",
    "import numpy as np\n",
    "import librosa"
   ]
  },
  {
   "cell_type": "code",
   "execution_count": 2,
   "metadata": {},
   "outputs": [
    {
     "name": "stdout",
     "output_type": "stream",
     "text": [
      "Log path: /datadrive/dalon/diarization-experiments/Notebooks/data-prep/logs/data-prep-vctk.log\n"
     ]
    }
   ],
   "source": [
    "dataset_name = 'vctk'\n",
    "# Create log dir if not exists\n",
    "os.makedirs('logs', exist_ok=True)\n",
    "log_file = f'logs/data-prep-{dataset_name}.log'\n",
    "data_path = \"/datadrive/dalon/diarizer-dataset/VCTK-Corpus/wav48\"\n",
    "save_path = \"/datadrive/dalon/diarizer-dataset/vctk-vox1n2-libri-npy\" #os.path.join(os.path.dirname(data_path), 'cleaned-data')\n",
    "os.makedirs(save_path, exist_ok=True)\n",
    "# Structure /aac/id0551/videoid/audio.mp4\n",
    "logging.basicConfig(\n",
    "    filename=log_file,\n",
    "    level=logging.DEBUG,\n",
    "    format=\"%(asctime)s:%(levelname)s:%(message)s\"\n",
    "    )\n",
    "print(f'Log path: {os.path.abspath(log_file)}')\n",
    "logging.info(f'Save path: {save_path}')"
   ]
  },
  {
   "cell_type": "code",
   "execution_count": 13,
   "metadata": {},
   "outputs": [],
   "source": [
    "# if tisv_frame=50, min length of utterance = 525ms\n",
    "# save 160 i.e. 1625ms of frames\n",
    "tisv_frame = 160 # max frame number of utterances of tdsv (lower values suffer)\n",
    "window = 0.025 # 25ms\n",
    "hop = 0.01 # 10ms This is frame level precision we will get\n",
    "# pick the nfft atleast twice the size of window(whichs is the input) REF: https://stackoverflow.com/a/18080140/3959965\n",
    "# ft kernel size, better to have in pow of 2\n",
    "nfft = 512\n",
    "speaker_list = []\n",
    "\n",
    "counter = 0"
   ]
  },
  {
   "cell_type": "code",
   "execution_count": 17,
   "metadata": {},
   "outputs": [
    {
     "name": "stdout",
     "output_type": "stream",
     "text": [
      "Duration: 2.5644375\n",
      "Duration per frame: 6.25e-05s\n",
      "Min length of utterance: 0.525s\n"
     ]
    }
   ],
   "source": [
    "# tisv_frame = 50\n",
    "# utter, sr = librosa.core.load('/datadrive/dalon/diarizer-dataset/VCTK-Corpus/wav48/p282/p282_173.wav', sr=16000)        # load audio\n",
    "# utter_min_len = (tisv_frame * hop + window) * sr    # lower bound of utterance length\n",
    "# # Get the duration\n",
    "# duration = librosa.get_duration(utter, sr)\n",
    "# # Duration of each window\n",
    "# duration_per_frame = (duration / utter.shape[0])\n",
    "# print(f'Duration: {duration}\\nDuration per frame: {duration_per_frame}s\\nMin length of utterance: {utter_min_len * duration_per_frame}s')"
   ]
  },
  {
   "cell_type": "code",
   "execution_count": null,
   "metadata": {},
   "outputs": [],
   "source": []
  },
  {
   "cell_type": "code",
   "execution_count": 5,
   "metadata": {},
   "outputs": [],
   "source": [
    "for speaker in os.listdir(data_path):\n",
    "    save_audio_path = os.path.join(save_path, os.path.join(save_path, f'{dataset_name}_{speaker}.npy'))\n",
    "    utterances_spec = []\n",
    "    for idx, audio_path in enumerate(glob(os.path.join(data_path,speaker + \"/*.wav\"))):\n",
    "        logging.info(f'Processing {audio_path}')\n",
    "        \"\"\" Full preprocess of text independent utterance. The log-mel-spectrogram is saved as numpy file.\n",
    "        Each partial utterance is splitted by voice detection using DB\n",
    "        and all the frames from each partial utterance are saved.\n",
    "        \"\"\"\n",
    "#         save_audio_path = os.path.join(save_path, os.path.splitext(os.path.basename(audio_path))[0] + \".npy\")\n",
    "        try:\n",
    "            # since all other datasets are in 16kHz, downsample these 44kHz to 16kHz\n",
    "            utter, sr = librosa.core.load(audio_path, sr=16000)        # load audio\n",
    "            # Get the duration\n",
    "            duration = librosa.get_duration(utter, sr)\n",
    "            # Duration of each window\n",
    "            duration_per_frame = (duration / utter.shape[0])\n",
    "            utter_min_len = (tisv_frame * hop + window) * sr    # lower bound of utterance length\n",
    "            #     logging.debug(f'Duration: {duration}\\nMin length of utterance: {utter_min_len * duration_per_frame}s')\n",
    "\n",
    "    #         logging.debug(f'Processing: {idx + 1}/{len(all_files)}')\n",
    "#             utterances_spec = []\n",
    "\n",
    "            intervals = librosa.effects.split(utter, top_db=20)         # voice activity detection (Below 20db is considered silence)\n",
    "            for interval in intervals:\n",
    "                if (interval[1]-interval[0]) > utter_min_len:           # If partial utterance is sufficient long,\n",
    "                    utter_part = utter[interval[0]:interval[1]]         # save first and last 180 frames of spectrogram.\n",
    "            #                     logging.debug(f'{int(config.window * sr)},{int(config.hop * sr)}')\n",
    "                    S = librosa.core.stft(y=utter_part, n_fft=nfft,\n",
    "                                          win_length=int(window * sr), hop_length=int(hop * sr))\n",
    "                    S = np.abs(S) ** 2\n",
    "                    mel_basis = librosa.filters.mel(sr=sr, n_fft=nfft, n_mels=40)\n",
    "                    S = np.log10(np.dot(mel_basis, S) + 1e-6)           # log mel spectrogram of utterances\n",
    "\n",
    "                    prev_tisv_frame = 0\n",
    "                    # save only 2 from each segment\n",
    "#                     for i in range(1, S.shape[1]//tisv_frame + 1):\n",
    "#                         utterances_spec.append(S[:, prev_tisv_frame:tisv_frame * i])\n",
    "#                         prev_tisv_frame = tisv_frame * i\n",
    "\n",
    "                    utterances_spec.append(S[:, :tisv_frame])    # first 160 frames of partial utterance\n",
    "                    utterances_spec.append(S[:, -tisv_frame:])   # last 160 frames of partial utterance\n",
    "\n",
    "        except Exception as e:\n",
    "            logging.exception(e)\n",
    "            logging.info(f'Failed in: {audio_path}')\n",
    "\n",
    "    utterances_spec = np.array(utterances_spec)\n",
    "#         os.makedirs(os.path.dirname(save_audio_path), exist_ok=True)\n",
    "    if not utterances_spec.shape[0] == 0:\n",
    "        logging.debug(utterances_spec.shape)\n",
    "        # this will consists all the utterances for that chapter\n",
    "        speaker_list.append([audio_path, utterances_spec.shape, save_audio_path])\n",
    "        np.save(save_audio_path, utterances_spec)\n",
    "#         break\n",
    "with open(dataset_name + '_utter_info.b', \"wb\") as f:\n",
    "    # save the distribution\n",
    "    logging.info(f'Saving processed audio list to {dataset_name}_utter_info.b')\n",
    "    pickle.dump(speaker_list, f)\n",
    "logging.info(\"Completed!\")\n",
    "        "
   ]
  },
  {
   "cell_type": "code",
   "execution_count": 6,
   "metadata": {},
   "outputs": [
    {
     "data": {
      "text/plain": [
       "[['/datadrive2/dalon/diarization-experiments/Speaker_Verification/data/VCTK-Corpus/wav48/p259/p259_384.wav',\n",
       "  (1528, 40, 50),\n",
       "  '/datadrive2/dalon/diarization-experiments/Speaker_Verification/data/VCTK-Corpus/cleaned-data/p259.npy'],\n",
       " ['/datadrive2/dalon/diarization-experiments/Speaker_Verification/data/VCTK-Corpus/wav48/p315/p315_158.wav',\n",
       "  (427, 40, 50),\n",
       "  '/datadrive2/dalon/diarization-experiments/Speaker_Verification/data/VCTK-Corpus/cleaned-data/p315.npy'],\n",
       " ['/datadrive2/dalon/diarization-experiments/Speaker_Verification/data/VCTK-Corpus/wav48/p269/p269_208.wav',\n",
       "  (1256, 40, 50),\n",
       "  '/datadrive2/dalon/diarization-experiments/Speaker_Verification/data/VCTK-Corpus/cleaned-data/p269.npy']]"
      ]
     },
     "execution_count": 6,
     "metadata": {},
     "output_type": "execute_result"
    }
   ],
   "source": [
    "speaker_list[:3]"
   ]
  },
  {
   "cell_type": "code",
   "execution_count": 2,
   "metadata": {},
   "outputs": [],
   "source": [
    "# # we need to downsample the vctk dataset to 16khz\n",
    "# # you can use librosa while reading, just downsample to 16khz\n",
    "# def run_command(command):\n",
    "#     \"\"\"\n",
    "#         Run the given command in the shell.\n",
    "#         input:\n",
    "#             command: command string to run in the shell\n",
    "#         output:\n",
    "#             returncode: return code from the shell\n",
    "#             ouput:      output of the command\n",
    "#     \"\"\"\n",
    "#     process = subprocess.Popen(command, bufsize=2048, shell=True,\n",
    "#                                stdin=subprocess.PIPE,\n",
    "#                                stdout=subprocess.PIPE,\n",
    "#                                stderr=subprocess.PIPE,\n",
    "#                                close_fds=(sys.platform != 'win32'))\n",
    "#     output = process.communicate()\n",
    "#     return process.returncode, output\n",
    "# data_path = \"/datadrive/dalon/diarizer-dataset/VCTK-Corpus/wav48\"\n",
    "# for speaker in os.listdir(data_path):\n",
    "#     output_dir = os.path.join('/datadrive/dalon/diarizer-dataset/VCTK-Corpus/wav16', speaker)\n",
    "#     os.makedirs(output_dir, exist_ok=True)\n",
    "#     for idx, audio_path in enumerate(glob(os.path.join(data_path,speaker + \"/*.wav\"))):\n",
    "#         output_file = os.path.join(output_dir, os.path.basename(audio_path))\n",
    "#         cmd = \"ffmpeg -i '\" + audio_path + \"' -ar 16000 '\" + output_file + \"'\"\n",
    "        \n",
    "#         resp_code, _ = run_command(cmd)\n",
    "#         print(resp_code)\n",
    "# #         break"
   ]
  }
 ],
 "metadata": {
  "kernelspec": {
   "display_name": "Python 3",
   "language": "python",
   "name": "python3"
  },
  "language_info": {
   "codemirror_mode": {
    "name": "ipython",
    "version": 3
   },
   "file_extension": ".py",
   "mimetype": "text/x-python",
   "name": "python",
   "nbconvert_exporter": "python",
   "pygments_lexer": "ipython3",
   "version": "3.6.6"
  }
 },
 "nbformat": 4,
 "nbformat_minor": 2
}
