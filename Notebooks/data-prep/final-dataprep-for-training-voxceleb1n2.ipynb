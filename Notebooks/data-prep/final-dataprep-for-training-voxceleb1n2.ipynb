{
 "cells": [
  {
   "cell_type": "code",
   "execution_count": 1,
   "metadata": {},
   "outputs": [
    {
     "name": "stdout",
     "output_type": "stream",
     "text": [
      "Namespace(M=5, N=4, beta1=0.5, beta2=0.9, comment='', hidden=768, hop=0.01, iteration=100000, loss='softmax', lr=0.01, max_batch_utterances=1000, model_num=6, model_path='./tisv_model', nfft=512, noise_filenum=16, noise_path='/datadrive2/dalon/diarization-experiments/Speaker_Verification/data/VCTK-Corpus/noise', num_layer=3, optim='sgd', proj=256, restore=False, sr=8000, tdsv=False, tdsv_frame=80, test_path='/datadrive2/dalon/diarization-experiments/Speaker_Verification/data/VCTK-Corpus/test', tisv_frame=50, train=False, train_path='/datadrive2/dalon/diarization-experiments/Speaker_Verification/data/VCTK-Corpus/train', window=0.025)\n"
     ]
    }
   ],
   "source": [
    "import os, logging, pickle, logging\n",
    "import tensorflow as tf\n",
    "import numpy as np\n",
    "import time\n",
    "from utils import random_batch, normalize, similarity, loss_cal, optim\n",
    "from configuration import get_config\n",
    "from tensorflow.contrib import rnn\n",
    "\n",
    "config = get_config()"
   ]
  },
  {
   "cell_type": "code",
   "execution_count": 2,
   "metadata": {},
   "outputs": [
    {
     "name": "stdout",
     "output_type": "stream",
     "text": [
      "Log path: /datadrive2/dalon/diarization-experiments/Speaker_Verification/Notebooks/dataprep-phase2.logs\n"
     ]
    }
   ],
   "source": [
    "from collections import defaultdict\n",
    "import matplotlib.pyplot as plt\n",
    "\n",
    "log_file = os.path.abspath(\"dataprep-phase2.logs\")\n",
    "logging.basicConfig(\n",
    "    filename=log_file,\n",
    "    level=logging.DEBUG,\n",
    "    format=\"%(asctime)s:%(levelname)s:%(message)s\"\n",
    "    )\n",
    "print(f'Log path: {log_file}')\n",
    "\n",
    "%matplotlib inline"
   ]
  },
  {
   "cell_type": "markdown",
   "metadata": {},
   "source": [
    "# Data selection"
   ]
  },
  {
   "cell_type": "markdown",
   "metadata": {},
   "source": [
    "Roughly in dev set:\n",
    "\n",
    "Voxceleb 2</br >\n",
    "Number of speakers = 5,994\n",
    "\n",
    "Voxceleb 1</br >\n",
    "Number of speakers = 1,211"
   ]
  },
  {
   "cell_type": "code",
   "execution_count": 3,
   "metadata": {},
   "outputs": [],
   "source": [
    "# Voxceleb-1 structure\n",
    "# [['/datadrive2/dalon/diarization-experiments/voxceleb-dataset/voxceleb-1/wav/id10266/SHI6yGzrwLg/00001.wav',\n",
    "#   '/datadrive2/dalon/diarization-experiments/voxceleb-dataset/voxceleb-1/cleaned-data/id10266/SHI6yGzrwLg/00001.npy',\n",
    "#   (12, 40, 50)],\n",
    "# voxceleb1_file_list[:2]"
   ]
  },
  {
   "cell_type": "code",
   "execution_count": 4,
   "metadata": {},
   "outputs": [],
   "source": [
    "# # Voxceleb1 distribution\n",
    "# voxceleb1_file_path = \"/datadrive2/dalon/diarization-experiments/voxceleb-dataset/voxceleb-1/voxceleb-1.b\"\n",
    "# voxceleb1_file_list = np.load(voxceleb1_file_path)\n",
    "# voxceleb1_clean_list = [[x[1], int(x[2][0])] for x in voxceleb1_file_list if x[2][0] != 0]\n",
    "# voxceleb1_size_list = np.array([x[1] for x in voxceleb1_clean_list])\n",
    "# print(f'Total # of Utterances = {len(voxceleb1_size_list)}')\n",
    "# print(f'Max = {voxceleb1_size_list.max()}\\nMin = {voxceleb1_size_list.min()}\\nMean = {voxceleb1_size_list.mean()}')"
   ]
  },
  {
   "cell_type": "code",
   "execution_count": 5,
   "metadata": {},
   "outputs": [],
   "source": [
    "# Check the data distribution\n",
    "data_path = \"/datadrive2/dalon/diarization-experiments/voxceleb-dataset/voxceleb-2/voxceleb-2-train-v1.b\"\n",
    "save_dir = f\"/datadrive2/dalon/diarization-experiments/voxceleb-dataset/voxceleb-2/train-data-pruned-{config.max_batch_utterances}\"\n",
    "os.makedirs(save_dir)"
   ]
  },
  {
   "cell_type": "code",
   "execution_count": 6,
   "metadata": {},
   "outputs": [],
   "source": [
    "with open(data_path, \"rb\") as f:\n",
    "    train_data_paths = pickle.load(f)"
   ]
  },
  {
   "cell_type": "code",
   "execution_count": 7,
   "metadata": {},
   "outputs": [
    {
     "data": {
      "text/plain": [
       "[['/datadrive2/dalon/diarization-experiments/voxceleb-dataset/voxceleb-2/train-data-v1/id00421.npy',\n",
       "  (2571, 40, 50)],\n",
       " ['/datadrive2/dalon/diarization-experiments/voxceleb-dataset/voxceleb-2/train-data-v1/id04835.npy',\n",
       "  (1112, 40, 50)]]"
      ]
     },
     "execution_count": 7,
     "metadata": {},
     "output_type": "execute_result"
    }
   ],
   "source": [
    "train_data_paths[:2]"
   ]
  },
  {
   "cell_type": "code",
   "execution_count": 8,
   "metadata": {},
   "outputs": [],
   "source": [
    "number_of_segments = np.array([x[1][0] for x in train_data_paths])"
   ]
  },
  {
   "cell_type": "code",
   "execution_count": 11,
   "metadata": {},
   "outputs": [],
   "source": [
    "logging.info(f'Total Number of Speakers: {len(number_of_segments)}')\n",
    "logging.info(f'Max = {number_of_segments.max()}\\nMin = {number_of_segments.min()}\\nMean = {number_of_segments.mean()}')"
   ]
  },
  {
   "cell_type": "code",
   "execution_count": 13,
   "metadata": {},
   "outputs": [
    {
     "data": {
      "text/plain": [
       "(array([442., 622., 568., 469., 422., 353., 289., 259., 221., 222.]),\n",
       " array([ 125. ,  312.5,  500. ,  687.5,  875. , 1062.5, 1250. , 1437.5,\n",
       "        1625. , 1812.5, 2000. ]),\n",
       " <a list of 10 Patch objects>)"
      ]
     },
     "execution_count": 13,
     "metadata": {},
     "output_type": "execute_result"
    },
    {
     "data": {
      "image/png": "[encoded data removed]",
      "text/plain": [
       "<Figure size 432x288 with 1 Axes>"
      ]
     },
     "metadata": {
      "needs_background": "light"
     },
     "output_type": "display_data"
    }
   ],
   "source": [
    "plt.hist(number_of_segments[number_of_segments <= 2000])"
   ]
  },
  {
   "cell_type": "code",
   "execution_count": 14,
   "metadata": {},
   "outputs": [
    {
     "data": {
      "text/plain": [
       "array([], dtype=int64)"
      ]
     },
     "execution_count": 14,
     "metadata": {},
     "output_type": "execute_result"
    }
   ],
   "source": [
    "number_of_segments[number_of_segments == 0]"
   ]
  },
  {
   "cell_type": "code",
   "execution_count": null,
   "metadata": {},
   "outputs": [],
   "source": [
    "\n",
    "# read the features\n",
    "max_batch_utterances = config.max_batch_utterances\n",
    "for idx, entry in enumerate(train_data_paths):\n",
    "    logging.info(f'Processing: {idx + 1}/{len(number_of_segments)}')\n",
    "    data = np.load(entry[0])\n",
    "    if data.shape[0] >= max_batch_utterances:\n",
    "        data = data[:max_batch_utterances, :, :]\n",
    "    elif data.shape[0] < max_batch_utterances:\n",
    "        data = np.pad(data,((0, max_batch_utterances - data.shape[0]), (0, 0), (0, 0)), 'wrap')\n",
    "    speaker = os.path.splitext(entry[0].split(\"/\")[-1])[0]\n",
    "    logging.info(f'{data.shape}')\n",
    "    logging.info(f'Saving: {os.path.join(save_dir, speaker + \".npy\")}')\n",
    "    np.save(os.path.join(save_dir, speaker + '.npy'), data)\n",
    "logging.info(\"Completed!\")\n"
   ]
  },
  {
   "cell_type": "code",
   "execution_count": null,
   "metadata": {},
   "outputs": [],
   "source": []
  },
  {
   "cell_type": "code",
   "execution_count": null,
   "metadata": {},
   "outputs": [],
   "source": []
  },
  {
   "cell_type": "code",
   "execution_count": null,
   "metadata": {},
   "outputs": [],
   "source": []
  },
  {
   "cell_type": "code",
   "execution_count": null,
   "metadata": {},
   "outputs": [],
   "source": []
  },
  {
   "cell_type": "code",
   "execution_count": null,
   "metadata": {},
   "outputs": [],
   "source": []
  },
  {
   "cell_type": "code",
   "execution_count": null,
   "metadata": {},
   "outputs": [],
   "source": [
    "\n",
    "def random_batch(speaker_num=config.N, utter_num=config.M, shuffle=True, noise_filenum=None, utter_start=0):\n",
    "    \"\"\" Generate 1 batch.\n",
    "        For TD-SV, noise is added to each utterance.\n",
    "        For TI-SV, random frame length is applied to each batch of utterances (140-180 frames)\n",
    "        speaker_num : number of speaker of each batch\n",
    "        utter_num : number of utterance per speaker of each batch\n",
    "        shuffle : random sampling or not\n",
    "        noise_filenum : specify noise file or not (TD-SV)\n",
    "        utter_start : start point of slicing (TI-SV)\n",
    "    :return: 1 random numpy batch (frames x batch(NM) x n_mels)\n",
    "    \"\"\"\n",
    "\n",
    "    np_file_list = os.listdir(path)\n",
    "    total_speaker = len(np_file_list)\n",
    "\n",
    "    if shuffle:\n",
    "        selected_files = random.sample(np_file_list, speaker_num)  # select random N speakers (default N=4)\n",
    "    else:\n",
    "        selected_files = np_file_list[:speaker_num]                # select first N speakers\n",
    "\n",
    "    utter_batch = []\n",
    "    for file in selected_files:\n",
    "        utters = np.load(os.path.join(path, file))        # load utterance spectrogram of selected speaker\n",
    "        if shuffle:\n",
    "            utter_index = np.random.randint(0, utters.shape[0], utter_num)   # select M utterances per speaker (default M=5)\n",
    "            utter_batch.append(utters[utter_index])       # each speakers utterance [M, n_mels, frames] is appended\n",
    "        else:\n",
    "            utter_batch.append(utters[utter_start: utter_start+utter_num])\n",
    "\n",
    "    utter_batch = np.concatenate(utter_batch, axis=0)     # utterance batch [batch(NM), n_mels, frames]\n",
    "a\n",
    "    frame_slice = np.random.randint(140,181)          # for train session, random slicing of input batch\n",
    "    utter_batch = utter_batch[:,:,:frame_slice]\n",
    "\n",
    "    utter_batch = np.transpose(utter_batch, axes=(2,0,1))     # transpose [frames, batch, n_mels]\n",
    "\n",
    "    return utter_batch\n"
   ]
  },
  {
   "cell_type": "code",
   "execution_count": null,
   "metadata": {},
   "outputs": [],
   "source": []
  }
 ],
 "metadata": {
  "kernelspec": {
   "display_name": "Python 3",
   "language": "python",
   "name": "python3"
  },
  "language_info": {
   "codemirror_mode": {
    "name": "ipython",
    "version": 3
   },
   "file_extension": ".py",
   "mimetype": "text/x-python",
   "name": "python",
   "nbconvert_exporter": "python",
   "pygments_lexer": "ipython3",
   "version": "3.6.6"
  }
 },
 "nbformat": 4,
 "nbformat_minor": 2
}
