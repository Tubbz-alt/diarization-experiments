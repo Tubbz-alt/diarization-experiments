{
 "cells": [
  {
   "cell_type": "code",
   "execution_count": 1,
   "metadata": {},
   "outputs": [
    {
     "name": "stdout",
     "output_type": "stream",
     "text": [
      "Namespace(M=5, N=4, beta1=0.5, beta2=0.9, comment='', hidden=128, hop=0.01, iteration=100000, loss='softmax', lr=0.01, model_num=6, model_path='./tisv_model', nfft=512, noise_filenum=16, noise_path='/datadrive2/dalon/diarization-experiments/Speaker_Verification/data/VCTK-Corpus/noise', num_layer=3, optim='sgd', proj=64, restore=False, sr=8000, tdsv=False, tdsv_frame=80, test_path='/datadrive2/dalon/diarization-experiments/Speaker_Verification/data/VCTK-Corpus/test', tisv_frame=180, train=False, train_path='/datadrive2/dalon/diarization-experiments/Speaker_Verification/data/VCTK-Corpus/train', window=0.025)\n"
     ]
    }
   ],
   "source": [
    "import os, pickle\n",
    "import logging\n",
    "import librosa\n",
    "import numpy as np\n",
    "import matplotlib.pyplot as plt\n",
    "from configuration import get_config\n",
    "from utils import keyword_spot\n"
   ]
  },
  {
   "cell_type": "code",
   "execution_count": 2,
   "metadata": {},
   "outputs": [
    {
     "name": "stdout",
     "output_type": "stream",
     "text": [
      "Log path: /datadrive2/dalon/diarization-experiments/Speaker_Verification/Notebooks/data-prep.log\n"
     ]
    }
   ],
   "source": [
    "dataset_name = 'voxceleb-2'\n",
    "data_path = '/datadrive2/dalon/diarization-experiments/voxceleb-dataset/voxceleb-2/dev/aac'\n",
    "save_path = os.path.join(os.path.dirname(data_path), 'prepared-data')\n",
    "log_file = 'data-prep.log'\n",
    "os.makedirs(save_path, exist_ok=True)\n",
    "# Structure /aac/id0551/videoid/audio.mp4\n",
    "logging.basicConfig(\n",
    "    filename=log_file,\n",
    "    level=logging.DEBUG,\n",
    "    format=\"%(asctime)s:%(levelname)s:%(message)s\"\n",
    "    )\n",
    "print(f'Log path: {os.path.abspath(log_file)}')\n",
    "logging.info(f'Data path: {data_path}\\nSave path: {save_path}')"
   ]
  },
  {
   "cell_type": "code",
   "execution_count": 3,
   "metadata": {},
   "outputs": [
    {
     "name": "stdout",
     "output_type": "stream",
     "text": [
      "Unique file extensions: {'.m4a'}\n"
     ]
    }
   ],
   "source": [
    "all_unique_extensions = []\n",
    "all_files = []\n",
    "for base_id in os.listdir(data_path):\n",
    "#     print(f'Base id: {base_id}')\n",
    "    for video_id in os.listdir(os.path.join(data_path, base_id)):\n",
    "#         print(f'Base id: {base_id} Video id: {video_id}')\n",
    "        for audio_id in os.listdir(os.path.join(data_path, \n",
    "                                                base_id, \n",
    "                                                video_id)):\n",
    "#             print(f'Base id: {base_id} Video id: {video_id} Audio id: {audio_id}')\n",
    "            all_unique_extensions.append(os.path.splitext(audio_id)[1])\n",
    "            if os.path.splitext(audio_id)[1] == '.m4a':\n",
    "                # append the file path and save path to all_files\n",
    "                all_files.append([os.path.join(data_path, base_id, video_id, audio_id),\n",
    "                                    os.path.join(save_path, base_id, video_id,\n",
    "                                                os.path.splitext(audio_id)[0]) + '.npy'])\n",
    "            else:\n",
    "                print(f'Wrong file type in {os.path.join(data_path, base_id, video_id, audio_id)}')\n",
    "print(f'Unique file extensions: {set(all_unique_extensions)}')"
   ]
  },
  {
   "cell_type": "code",
   "execution_count": 4,
   "metadata": {},
   "outputs": [
    {
     "name": "stdout",
     "output_type": "stream",
     "text": [
      "Number of utterences: 1092009\n"
     ]
    }
   ],
   "source": [
    "print(f'Number of utterences: {len(all_files)}')"
   ]
  },
  {
   "cell_type": "code",
   "execution_count": null,
   "metadata": {},
   "outputs": [],
   "source": [
    "\"\"\" Full preprocess of text independent utterance. The log-mel-spectrogram is saved as numpy file.\n",
    "    Each partial utterance is splitted by voice detection using DB\n",
    "    and all the frames from each partial utterance are saved.\n",
    "\"\"\"\n",
    "\n",
    "# if tisv_frame=50, min length of utterance = 525ms\n",
    "tisv_frame = 50 # max frame number of utterances of tdsv (lower values suffer)\n",
    "window = 0.025 # 25ms\n",
    "hop = 0.01 # 10ms This is frame level precision we will get\n",
    "# pick the nfft atleast twice the size of window(whichs is the input) REF: https://stackoverflow.com/a/18080140/3959965\n",
    "# ft kernel size, better to have in pow of 2\n",
    "nfft = 512\n",
    "\n",
    "# all_files [[audio path], [save path], [number of segments]], \n",
    "for idx, item in enumerate(all_files):\n",
    "    try:\n",
    "        audio_path = item[0]\n",
    "        save_audio_path = item[1]\n",
    "        utter, sr = librosa.core.load(audio_path, sr=None)        # load audio\n",
    "        # Get the duration\n",
    "        duration = librosa.get_duration(utter, sr)\n",
    "        # Duration of each window\n",
    "        duration_per_frame = (duration / utter.shape[0])\n",
    "        utter_min_len = (tisv_frame * hop + window) * sr    # lower bound of utterance length\n",
    "        #     logging.debug(f'Duration: {duration}\\nMin length of utterance: {utter_min_len * duration_per_frame}s')\n",
    "\n",
    "        logging.debug(f'Processing: {idx + 1}/{len(all_files)}')\n",
    "        utterances_spec = []\n",
    "\n",
    "        intervals = librosa.effects.split(utter, top_db=20)         # voice activity detection (Below 20db is considered silence)\n",
    "        for interval in intervals:\n",
    "            if (interval[1]-interval[0]) > utter_min_len:           # If partial utterance is sufficient long,\n",
    "                utter_part = utter[interval[0]:interval[1]]         # save first and last 180 frames of spectrogram.\n",
    "        #                     logging.debug(f'{int(config.window * sr)},{int(config.hop * sr)}')\n",
    "                S = librosa.core.stft(y=utter_part, n_fft=nfft,\n",
    "                                      win_length=int(window * sr), hop_length=int(hop * sr))\n",
    "                S = np.abs(S) ** 2\n",
    "                mel_basis = librosa.filters.mel(sr=sr, n_fft=nfft, n_mels=40)\n",
    "                S = np.log10(np.dot(mel_basis, S) + 1e-6)           # log mel spectrogram of utterances\n",
    "                \n",
    "                prev_tisv_frame = 0\n",
    "                for i in range(1, S.shape[1]//tisv_frame + 1):\n",
    "                    utterances_spec.append(S[:, prev_tisv_frame:tisv_frame * i])\n",
    "                    prev_tisv_frame = tisv_frame * i\n",
    "\n",
    "#                 utterances_spec.append(S[:, :tisv_frame])    # first 180 frames of partial utterance\n",
    "#                 utterances_spec.append(S[:, -tisv_frame:])   # last 180 frames of partial utterance\n",
    "\n",
    "        utterances_spec = np.array(utterances_spec)\n",
    "        all_files[idx].append(utterances_spec.shape)\n",
    "        logging.debug(utterances_spec.shape)\n",
    "        os.makedirs(os.path.dirname(save_audio_path), exist_ok=True)\n",
    "        np.save(save_audio_path, utterances_spec)\n",
    "#         break\n",
    "    except Exception as e:\n",
    "        logging.exception(e)\n",
    "        logging.info(f'Failed in: {all_files[idx]}')\n",
    "\n",
    "with open(os.path.join(os.path.dirname(data_path), dataset_name + '.b'), \"wb\") as f:\n",
    "    # save the distribution\n",
    "    logging.info(f'Saved the all files list to {os.path.join(os.path.dirname(data_path), dataset_name + \".b\")}')\n",
    "    pickle.dump(all_files, f)\n",
    "logging.info(\"Completed!\")"
   ]
  },
  {
   "cell_type": "code",
   "execution_count": null,
   "metadata": {},
   "outputs": [],
   "source": []
  }
 ],
 "metadata": {
  "kernelspec": {
   "display_name": "Python 3",
   "language": "python",
   "name": "python3"
  },
  "language_info": {
   "codemirror_mode": {
    "name": "ipython",
    "version": 3
   },
   "file_extension": ".py",
   "mimetype": "text/x-python",
   "name": "python",
   "nbconvert_exporter": "python",
   "pygments_lexer": "ipython3",
   "version": "3.6.6"
  }
 },
 "nbformat": 4,
 "nbformat_minor": 2
}
