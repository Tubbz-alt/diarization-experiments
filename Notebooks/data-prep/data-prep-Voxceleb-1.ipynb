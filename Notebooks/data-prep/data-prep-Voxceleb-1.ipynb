{
 "cells": [
  {
   "cell_type": "code",
   "execution_count": 1,
   "metadata": {},
   "outputs": [],
   "source": [
    "import os, pickle\n",
    "import logging\n",
    "from collections import defaultdict\n",
    "import librosa\n",
    "import numpy as np\n",
    "import matplotlib.pyplot as plt\n",
    "# from configuration import get_config\n",
    "# from utils import keyword_spot\n"
   ]
  },
  {
   "cell_type": "code",
   "execution_count": 2,
   "metadata": {},
   "outputs": [
    {
     "name": "stdout",
     "output_type": "stream",
     "text": [
      "Log path: /datadrive/dalon/diarization-experiments/Notebooks/data-prep/logs/data-prep-voxceleb-1.log\n"
     ]
    }
   ],
   "source": [
    "dataset_name = 'voxceleb-1'\n",
    "data_path = '/datadrive/dalon/diarizer-dataset/voxceleb-1/wav'\n",
    "save_path = \"/datadrive/dalon/diarizer-dataset/vctk-vox1n2-libri-npy\"\n",
    "# Create log dir if not exists\n",
    "os.makedirs('logs', exist_ok=True)\n",
    "log_file = f'logs/data-prep-{dataset_name}.log'\n",
    "os.makedirs(save_path, exist_ok=True)\n",
    "# Structure /aac/id0551/videoid/audio.mp4\n",
    "logging.basicConfig(\n",
    "    filename=log_file,\n",
    "    level=logging.DEBUG,\n",
    "    format=\"%(asctime)s:%(levelname)s:%(message)s\"\n",
    "    )\n",
    "print(f'Log path: {os.path.abspath(log_file)}')\n",
    "logging.info(f'Data path: {data_path}\\nSave path: {save_path}')"
   ]
  },
  {
   "cell_type": "code",
   "execution_count": 3,
   "metadata": {},
   "outputs": [
    {
     "name": "stdout",
     "output_type": "stream",
     "text": [
      "Unique file extensions: {'.wav'}\n"
     ]
    }
   ],
   "source": [
    "\n",
    "all_unique_extensions = []\n",
    "all_files = defaultdict(list)\n",
    "for base_id in os.listdir(data_path):\n",
    "#     print(f'Base id: {base_id}')\n",
    "    for video_id in os.listdir(os.path.join(data_path, base_id)):\n",
    "#         print(f'Base id: {base_id} Video id: {video_id}')\n",
    "        for audio_id in os.listdir(os.path.join(data_path, \n",
    "                                                base_id, \n",
    "                                                video_id)):\n",
    "#             print(f'Base id: {base_id} Video id: {video_id} Audio id: {audio_id}')\n",
    "            all_unique_extensions.append(os.path.splitext(audio_id)[1])\n",
    "            if os.path.splitext(audio_id)[1] == '.wav':\n",
    "                # append the file path and save path to all_files\n",
    "                all_files[base_id].append(os.path.join(data_path, base_id, video_id, audio_id))\n",
    "            else:\n",
    "                print(f'Wrong file type in {os.path.join(data_path, base_id, video_id, audio_id)}')\n",
    "print(f'Unique file extensions: {set(all_unique_extensions)}')"
   ]
  },
  {
   "cell_type": "code",
   "execution_count": 4,
   "metadata": {},
   "outputs": [
    {
     "name": "stdout",
     "output_type": "stream",
     "text": [
      "Number of utterences: 1251\n"
     ]
    }
   ],
   "source": [
    "print(f'Number of utterences: {len(all_files)}')"
   ]
  },
  {
   "cell_type": "code",
   "execution_count": 5,
   "metadata": {},
   "outputs": [],
   "source": [
    "# for k, v in all_files.items():\n",
    "#     print(k, v)\n",
    "#     break"
   ]
  },
  {
   "cell_type": "code",
   "execution_count": null,
   "metadata": {},
   "outputs": [],
   "source": [
    "\"\"\" Full preprocess of text independent utterance. The log-mel-spectrogram is saved as numpy file.\n",
    "    Each partial utterance is splitted by voice detection using DB\n",
    "    and all the frames from each partial utterance are saved.\n",
    "\"\"\"\n",
    "\n",
    "# if tisv_frame=50, min length of utterance = 525ms\n",
    "# save 160 i.e. 1625ms of frames\n",
    "tisv_frame = 160 # max frame number of utterances of tdsv (lower values suffer)\n",
    "window = 0.025 # 25ms\n",
    "hop = 0.01 # 10ms This is frame level precision we will get\n",
    "# pick the nfft atleast twice the size of window(whichs is the input) REF: https://stackoverflow.com/a/18080140/3959965\n",
    "# ft kernel size, better to have in pow of 2\n",
    "nfft = 512\n",
    "sr = 16000\n",
    "speaker_list = []\n",
    "\n",
    "# all_files [[audio path], [save path], [number of segments]],\n",
    "for k, v in all_files.items():\n",
    "    save_audio_path = os.path.join(save_path, f'{dataset_name}_{k}.npy')\n",
    "    utterances_spec = []\n",
    "    try:\n",
    "        for idx, item in enumerate(v):\n",
    "            audio_path = item\n",
    "            utter, sr = librosa.core.load(audio_path, sr=sr)        # load audio\n",
    "            # Get the duration\n",
    "            duration = librosa.get_duration(utter, sr)\n",
    "            # Duration of each window\n",
    "            duration_per_frame = (duration / utter.shape[0])\n",
    "            utter_min_len = (tisv_frame * hop + window) * sr    # lower bound of utterance length\n",
    "            #     logging.debug(f'Duration: {duration}\\nMin length of utterance: {utter_min_len * duration_per_frame}s')\n",
    "\n",
    "            logging.debug(f'Processing: {idx + 1}/{len(v)}')\n",
    "\n",
    "\n",
    "            intervals = librosa.effects.split(utter, top_db=20)         # voice activity detection (Below 20db is considered silence)\n",
    "            for interval in intervals:\n",
    "                if (interval[1]-interval[0]) > utter_min_len:           # If partial utterance is sufficient long,\n",
    "                    utter_part = utter[interval[0]:interval[1]]         # save first and last 180 frames of spectrogram.\n",
    "            #                     logging.debug(f'{int(config.window * sr)},{int(config.hop * sr)}')\n",
    "                    S = librosa.core.stft(y=utter_part, n_fft=nfft,\n",
    "                                          win_length=int(window * sr), hop_length=int(hop * sr))\n",
    "                    S = np.abs(S) ** 2\n",
    "                    mel_basis = librosa.filters.mel(sr=sr, n_fft=nfft, n_mels=40)\n",
    "                    S = np.log10(np.dot(mel_basis, S) + 1e-6)           # log mel spectrogram of utterances\n",
    "\n",
    "                    utterances_spec.append(S[:, :tisv_frame])    # first 160 frames of partial utterance\n",
    "                    utterances_spec.append(S[:, -tisv_frame:])   # last 160 frames of partial utterance\n",
    "        utterances_spec = np.array(utterances_spec)\n",
    "        if not utterances_spec.shape[0] == 0:\n",
    "            speaker_list.append([k, utterances_spec.shape, save_audio_path])\n",
    "            logging.debug(utterances_spec.shape)\n",
    "            np.save(save_audio_path, utterances_spec)\n",
    "    except Exception as e:\n",
    "        logging.exception(e)\n",
    "        logging.info(f'Failed in: {k}')\n",
    "\n",
    "with open(dataset_name + '_utter_info.b', \"wb\") as f:\n",
    "    # save the distribution\n",
    "    logging.info(f'Saving processed audio list to {dataset_name}_utter_info.b')\n",
    "    pickle.dump(speaker_list, f)\n",
    "logging.info(\"Completed!\")"
   ]
  },
  {
   "cell_type": "code",
   "execution_count": 7,
   "metadata": {},
   "outputs": [],
   "source": [
    "with open(dataset_name + '_utter_info.b', \"wb\") as f:\n",
    "    # save the distribution\n",
    "    logging.info(f'Saving processed audio list to {dataset_name}_utter_info.b')\n",
    "    pickle.dump(speaker_list, f)"
   ]
  },
  {
   "cell_type": "code",
   "execution_count": null,
   "metadata": {},
   "outputs": [],
   "source": []
  }
 ],
 "metadata": {
  "kernelspec": {
   "display_name": "Python 3",
   "language": "python",
   "name": "python3"
  },
  "language_info": {
   "codemirror_mode": {
    "name": "ipython",
    "version": 3
   },
   "file_extension": ".py",
   "mimetype": "text/x-python",
   "name": "python",
   "nbconvert_exporter": "python",
   "pygments_lexer": "ipython3",
   "version": "3.6.6"
  }
 },
 "nbformat": 4,
 "nbformat_minor": 2
}
