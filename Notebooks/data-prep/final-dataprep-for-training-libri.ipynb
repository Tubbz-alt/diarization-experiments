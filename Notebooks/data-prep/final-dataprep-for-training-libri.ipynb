{
 "cells": [
  {
   "cell_type": "code",
   "execution_count": 1,
   "metadata": {},
   "outputs": [],
   "source": [
    "import os, logging, pickle, logging\n",
    "# import tensorflow as tf\n",
    "import numpy as np\n",
    "import time\n"
   ]
  },
  {
   "cell_type": "code",
   "execution_count": 2,
   "metadata": {},
   "outputs": [
    {
     "name": "stdout",
     "output_type": "stream",
     "text": [
      "Log path: /datadrive2/dalon/diarization-experiments/Speaker_Verification/Notebooks/data-prep/dataprep-libri-phase2.logs\n"
     ]
    }
   ],
   "source": [
    "from collections import defaultdict\n",
    "import matplotlib.pyplot as plt\n",
    "\n",
    "log_file = os.path.abspath(\"dataprep-libri-phase2.logs\")\n",
    "logging.basicConfig(\n",
    "    filename=log_file,\n",
    "    level=logging.DEBUG,\n",
    "    format=\"%(asctime)s:%(levelname)s:%(message)s\"\n",
    "    )\n",
    "print(f'Log path: {log_file}')\n",
    "\n",
    "%matplotlib inline"
   ]
  },
  {
   "cell_type": "markdown",
   "metadata": {},
   "source": [
    "# Data selection"
   ]
  },
  {
   "cell_type": "markdown",
   "metadata": {},
   "source": [
    "Roughly in dev set:\n",
    "\n",
    "Voxceleb 2</br >\n",
    "Number of speakers = 5,994\n",
    "\n",
    "Voxceleb 1</br >\n",
    "Number of speakers = 1,211"
   ]
  },
  {
   "cell_type": "code",
   "execution_count": 3,
   "metadata": {},
   "outputs": [],
   "source": [
    "max_batch_utterances = 1000\n",
    "data_path = \"/datadrive2/dalon/diarization-experiments/librispeech-dataset/librispeech.b\"\n",
    "save_dir = f\"/datadrive2/dalon/diarization-experiments/librispeech-dataset/train-data-pruned-{max_batch_utterances}\""
   ]
  },
  {
   "cell_type": "code",
   "execution_count": 4,
   "metadata": {},
   "outputs": [],
   "source": [
    "with open(data_path, \"rb\") as f:\n",
    "    train_data_paths = pickle.load(f)"
   ]
  },
  {
   "cell_type": "code",
   "execution_count": 5,
   "metadata": {},
   "outputs": [
    {
     "data": {
      "text/plain": [
       "[['/datadrive2/dalon/diarization-experiments/librispeech-dataset/LibriSpeech/train-clean-360/2194/150469/2194-150469-0023.flac',\n",
       "  (140, 40, 50),\n",
       "  '/datadrive2/dalon/diarization-experiments/librispeech-dataset/cleaned-data/2194-150469-0023.npy'],\n",
       " ['/datadrive2/dalon/diarization-experiments/librispeech-dataset/LibriSpeech/train-clean-360/2194/141235/2194-141235-0023.flac',\n",
       "  (89, 40, 50),\n",
       "  '/datadrive2/dalon/diarization-experiments/librispeech-dataset/cleaned-data/2194-141235-0023.npy']]"
      ]
     },
     "execution_count": 5,
     "metadata": {},
     "output_type": "execute_result"
    }
   ],
   "source": [
    "train_data_paths[:2]"
   ]
  },
  {
   "cell_type": "code",
   "execution_count": 6,
   "metadata": {},
   "outputs": [
    {
     "data": {
      "text/plain": [
       "5466"
      ]
     },
     "execution_count": 6,
     "metadata": {},
     "output_type": "execute_result"
    }
   ],
   "source": [
    "len(train_data_paths)"
   ]
  },
  {
   "cell_type": "code",
   "execution_count": 7,
   "metadata": {},
   "outputs": [],
   "source": [
    "number_of_segments = np.array([x[1][0] for x in train_data_paths])"
   ]
  },
  {
   "cell_type": "code",
   "execution_count": 9,
   "metadata": {},
   "outputs": [],
   "source": [
    "logging.info(f'Total Number of Speakers: {len(number_of_segments)}')\n",
    "logging.info(f'Max = {number_of_segments.max()}\\nMin = {number_of_segments.min()}\\nMean = {number_of_segments.mean()}')"
   ]
  },
  {
   "cell_type": "code",
   "execution_count": 10,
   "metadata": {},
   "outputs": [
    {
     "data": {
      "text/plain": [
       "(array([  71.,  454., 1089., 1589., 1241.,  691.,  189.,   60.,   52.,\n",
       "          30.]),\n",
       " array([  4. ,  27.8,  51.6,  75.4,  99.2, 123. , 146.8, 170.6, 194.4,\n",
       "        218.2, 242. ]),\n",
       " <a list of 10 Patch objects>)"
      ]
     },
     "execution_count": 10,
     "metadata": {},
     "output_type": "execute_result"
    },
    {
     "data": {
      "image/png": "[encoded data removed]",
      "text/plain": [
       "<Figure size 432x288 with 1 Axes>"
      ]
     },
     "metadata": {
      "needs_background": "light"
     },
     "output_type": "display_data"
    }
   ],
   "source": [
    "plt.hist(number_of_segments)#[number_of_segments <= 2000])"
   ]
  },
  {
   "cell_type": "code",
   "execution_count": 10,
   "metadata": {},
   "outputs": [
    {
     "data": {
      "text/plain": [
       "array([], dtype=int64)"
      ]
     },
     "execution_count": 10,
     "metadata": {},
     "output_type": "execute_result"
    }
   ],
   "source": [
    "number_of_segments[number_of_segments == 0]"
   ]
  },
  {
   "cell_type": "code",
   "execution_count": 20,
   "metadata": {},
   "outputs": [],
   "source": [
    "os.makedirs(save_dir)\n",
    "# read the features\n",
    "# max_batch_utterances = max_batch_utterances\n",
    "for idx, entry in enumerate(train_data_paths):\n",
    "    logging.info(f'Processing: {idx + 1}/{len(number_of_segments)}')\n",
    "    data = np.load(entry[2])\n",
    "    if data.shape[0] >= max_batch_utterances:\n",
    "        data = data[:max_batch_utterances, :, :]\n",
    "    elif data.shape[0] < max_batch_utterances:\n",
    "        data = np.pad(data,((0, max_batch_utterances - data.shape[0]), (0, 0), (0, 0)), 'wrap')\n",
    "    speaker = os.path.basename(entry[2])\n",
    "    logging.info(f'{data.shape}')\n",
    "    logging.info(f'Saving: {os.path.join(save_dir, speaker)}')\n",
    "    np.save(os.path.join(save_dir, speaker), data)\n",
    "logging.info(\"Completed!\")\n"
   ]
  },
  {
   "cell_type": "code",
   "execution_count": 22,
   "metadata": {},
   "outputs": [
    {
     "data": {
      "text/plain": [
       "(1000, 40, 50)"
      ]
     },
     "execution_count": 22,
     "metadata": {},
     "output_type": "execute_result"
    }
   ],
   "source": [
    "data.shape"
   ]
  },
  {
   "cell_type": "code",
   "execution_count": 25,
   "metadata": {},
   "outputs": [],
   "source": [
    "# np.load(\"/datadrive2/dalon/diarization-experiments/Speaker_Verification/data/VCTK-Corpus/train-data-pruned-1000/p230.npy\")[:2]"
   ]
  },
  {
   "cell_type": "code",
   "execution_count": null,
   "metadata": {},
   "outputs": [],
   "source": []
  },
  {
   "cell_type": "code",
   "execution_count": null,
   "metadata": {},
   "outputs": [],
   "source": []
  },
  {
   "cell_type": "code",
   "execution_count": null,
   "metadata": {},
   "outputs": [],
   "source": []
  },
  {
   "cell_type": "code",
   "execution_count": null,
   "metadata": {},
   "outputs": [],
   "source": []
  }
 ],
 "metadata": {
  "kernelspec": {
   "display_name": "Python 3",
   "language": "python",
   "name": "python3"
  },
  "language_info": {
   "codemirror_mode": {
    "name": "ipython",
    "version": 3
   },
   "file_extension": ".py",
   "mimetype": "text/x-python",
   "name": "python",
   "nbconvert_exporter": "python",
   "pygments_lexer": "ipython3",
   "version": "3.6.6"
  }
 },
 "nbformat": 4,
 "nbformat_minor": 2
}
