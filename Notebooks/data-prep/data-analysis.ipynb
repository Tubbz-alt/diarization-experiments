{
 "cells": [
  {
   "cell_type": "code",
   "execution_count": 18,
   "metadata": {},
   "outputs": [],
   "source": [
    "import os, logging, pickle, logging, shutil\n",
    "# import tensorflow as tf\n",
    "import numpy as np\n",
    "import time\n",
    "from collections import defaultdict\n",
    "import matplotlib.pyplot as plt\n",
    "\n",
    "# log_file = os.path.abspath(\"dataprep-vtck-phase2.logs\")\n",
    "# logging.basicConfig(\n",
    "#     filename=log_file,\n",
    "#     level=logging.DEBUG,\n",
    "#     format=\"%(asctime)s:%(levelname)s:%(message)s\"\n",
    "#     )\n",
    "# print(f'Log path: {log_file}')\n",
    "\n",
    "%matplotlib inline"
   ]
  },
  {
   "cell_type": "markdown",
   "metadata": {},
   "source": [
    "## VCTK\n",
    "Total Number of Speakers: 109<br>\n",
    "Max = 508<br>\n",
    "Min = 46<br>\n",
    "Mean = 231.57798165137615\n",
    "\n",
    "### VCTK after cleaning\n",
    "Total Number of Speakers: 108<br>\n",
    "Max = 508<br>\n",
    "Min = 58<br>\n",
    "Mean = 233.2962962962963\n",
    "\n",
    "## Librispeech\n",
    "Total Number of Speakers: 5417<br>\n",
    "Max = 1104<br>\n",
    "Min = 2<br>\n",
    "Mean = 327.10910097840133\n",
    "\n",
    "### Libri after cleaning\n",
    "Total Number of Speakers: 5109<br>\n",
    "Max = 1104<br>\n",
    "Min = 50<br>\n",
    "Mean = 345.2041495400274\n",
    "\n",
    "## Voxceleb-1\n",
    "Total Number of Speakers: 1251<br>\n",
    "Max = 2208<br>\n",
    "Min = 50<br>\n",
    "Mean = 291.18625099920064\n"
   ]
  },
  {
   "cell_type": "code",
   "execution_count": 31,
   "metadata": {},
   "outputs": [
    {
     "name": "stdout",
     "output_type": "stream",
     "text": [
      "Total Number of Speakers: 108\n",
      "Max = 508\n",
      "Min = 58\n",
      "Mean = 233.2962962962963\n"
     ]
    },
    {
     "data": {
      "text/plain": [
       "(array([10., 10., 16., 20., 22., 13.,  9.,  4.,  2.,  2.]),\n",
       " array([ 58., 103., 148., 193., 238., 283., 328., 373., 418., 463., 508.]),\n",
       " <a list of 10 Patch objects>)"
      ]
     },
     "execution_count": 31,
     "metadata": {},
     "output_type": "execute_result"
    },
    {
     "data": {
      "image/png": "[encoded data removed]",
      "text/plain": [
       "<Figure size 432x288 with 1 Axes>"
      ]
     },
     "metadata": {
      "needs_background": "light"
     },
     "output_type": "display_data"
    }
   ],
   "source": [
    "data_path = \"vctk_utter_info.b\"\n",
    "# data_path = \"librispeech_utter_info.b\"\n",
    "# data_path = \"voxceleb-1_utter_info.b\"\n",
    "with open(data_path, \"rb\") as f:\n",
    "    train_data_paths = pickle.load(f)\n",
    "number_of_segments = np.array([x[1][0] for x in train_data_paths])\n",
    "print(f'Total Number of Speakers: {len(number_of_segments)}')\n",
    "print(f'Max = {number_of_segments.max()}\\nMin = {number_of_segments.min()}\\nMean = {number_of_segments.mean()}')\n",
    "plt.hist(number_of_segments)#[number_of_segments <= 2000])"
   ]
  },
  {
   "cell_type": "markdown",
   "metadata": {},
   "source": [
    "## In librispeech, out of 5417 speakers, only 308 speakers have < 50 utterences, so removing them"
   ]
  },
  {
   "cell_type": "code",
   "execution_count": 26,
   "metadata": {},
   "outputs": [
    {
     "data": {
      "text/plain": [
       "1"
      ]
     },
     "execution_count": 26,
     "metadata": {},
     "output_type": "execute_result"
    }
   ],
   "source": [
    "len(number_of_segments[number_of_segments<50])"
   ]
  },
  {
   "cell_type": "code",
   "execution_count": 27,
   "metadata": {},
   "outputs": [
    {
     "data": {
      "text/plain": [
       "109"
      ]
     },
     "execution_count": 27,
     "metadata": {},
     "output_type": "execute_result"
    }
   ],
   "source": [
    "len(number_of_segments)"
   ]
  },
  {
   "cell_type": "code",
   "execution_count": 28,
   "metadata": {},
   "outputs": [
    {
     "data": {
      "text/plain": [
       "['/datadrive/dalon/diarizer-dataset/VCTK-Corpus/wav48/p287/p287_041.wav',\n",
       " (100, 40, 160),\n",
       " '/datadrive/dalon/diarizer-dataset/vctk-vox1n2-libri-npy/vctk_p287.npy']"
      ]
     },
     "execution_count": 28,
     "metadata": {},
     "output_type": "execute_result"
    }
   ],
   "source": [
    "train_data_paths[0]"
   ]
  },
  {
   "cell_type": "code",
   "execution_count": 30,
   "metadata": {},
   "outputs": [
    {
     "name": "stdout",
     "output_type": "stream",
     "text": [
      "(46, 40, 160) /datadrive/dalon/diarizer-dataset/vctk-vox1n2-libri-npy/vctk_p323.npy\n"
     ]
    }
   ],
   "source": [
    "# dataset_name = 'vctk'\n",
    "# speaker_list = []\n",
    "# for item in train_data_paths:\n",
    "#     if item[1][0] < 50:\n",
    "#         print(item[1], item[2])\n",
    "#         os.remove(item[2])\n",
    "#     else:\n",
    "#         speaker_list.append(item)\n",
    "# with open(dataset_name + '_utter_info.b', \"wb\") as f:\n",
    "#     pickle.dump(speaker_list, f)"
   ]
  },
  {
   "cell_type": "markdown",
   "metadata": {},
   "source": [
    "## Plot all data distribution"
   ]
  },
  {
   "cell_type": "code",
   "execution_count": 32,
   "metadata": {},
   "outputs": [],
   "source": [
    "data_path_1 = \"vctk_utter_info.b\"\n",
    "data_path_2 = \"librispeech_utter_info.b\"\n",
    "data_path_3 = \"voxceleb-1_utter_info.b\"\n",
    "with open(data_path_1, \"rb\") as f1, open(data_path_2, \"rb\") as f2, open(data_path_3, \"rb\") as f3:\n",
    "    train_data_paths = pickle.load(f1)\n",
    "    number_of_segments_1 = np.array([x[1][0] for x in train_data_paths])\n",
    "    train_data_paths = pickle.load(f2)\n",
    "    number_of_segments_2 = np.array([x[1][0] for x in train_data_paths])\n",
    "    train_data_paths = pickle.load(f3)\n",
    "    number_of_segments_3 = np.array([x[1][0] for x in train_data_paths])"
   ]
  },
  {
   "cell_type": "code",
   "execution_count": 39,
   "metadata": {},
   "outputs": [
    {
     "data": {
      "text/plain": [
       "Text(0.5,1,'voxceleb-1')"
      ]
     },
     "execution_count": 39,
     "metadata": {},
     "output_type": "execute_result"
    },
    {
     "data": {
      "image/png": "[encoded data removed]",
      "text/plain": [
       "<Figure size 864x288 with 4 Axes>"
      ]
     },
     "metadata": {
      "needs_background": "light"
     },
     "output_type": "display_data"
    }
   ],
   "source": [
    "f, ((ax1, ax2, ax3, ax4)) = plt.subplots(1, 4, figsize=(12, 4))\n",
    "ax1.hist(number_of_segments_1)\n",
    "ax1.set_title('vctk')\n",
    "ax2.hist(number_of_segments_2)\n",
    "ax2.set_title('libri')\n",
    "ax3.hist(number_of_segments_3)\n",
    "ax3.set_title('voxceleb-1')"
   ]
  },
  {
   "cell_type": "code",
   "execution_count": null,
   "metadata": {},
   "outputs": [],
   "source": []
  }
 ],
 "metadata": {
  "kernelspec": {
   "display_name": "Python 3",
   "language": "python",
   "name": "python3"
  },
  "language_info": {
   "codemirror_mode": {
    "name": "ipython",
    "version": 3
   },
   "file_extension": ".py",
   "mimetype": "text/x-python",
   "name": "python",
   "nbconvert_exporter": "python",
   "pygments_lexer": "ipython3",
   "version": "3.6.6"
  }
 },
 "nbformat": 4,
 "nbformat_minor": 2
}
