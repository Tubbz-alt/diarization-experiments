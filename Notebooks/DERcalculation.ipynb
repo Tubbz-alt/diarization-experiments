{
 "cells": [
  {
   "cell_type": "code",
   "execution_count": 2,
   "metadata": {},
   "outputs": [
    {
     "name": "stdout",
     "output_type": "stream",
     "text": [
      "Populating the interactive namespace from numpy and matplotlib\n"
     ]
    }
   ],
   "source": [
    "%pylab inline"
   ]
  },
  {
   "cell_type": "code",
   "execution_count": 3,
   "metadata": {},
   "outputs": [],
   "source": [
    "import matplotlib.pyplot as plt"
   ]
  },
  {
   "cell_type": "code",
   "execution_count": 4,
   "metadata": {},
   "outputs": [],
   "source": [
    "from pyannote.core import Annotation, Segment"
   ]
  },
  {
   "cell_type": "code",
   "execution_count": 5,
   "metadata": {},
   "outputs": [
    {
     "data": {
      "image/png": "[encoded data removed]",
      "text/plain": [
       "<pyannote.core.annotation.Annotation at 0x7f1d4c50a828>"
      ]
     },
     "execution_count": 5,
     "metadata": {},
     "output_type": "execute_result"
    }
   ],
   "source": [
    "reference = Annotation()\n",
    "reference[Segment(0, 10)] = 'A'\n",
    "reference[Segment(12, 20)] = 'B'\n",
    "reference[Segment(24, 27)] = 'A'\n",
    "reference[Segment(30, 40)] = 'C'\n",
    "reference"
   ]
  },
  {
   "cell_type": "code",
   "execution_count": 6,
   "metadata": {},
   "outputs": [
    {
     "data": {
      "image/png": "[encoded data removed]",
      "text/plain": [
       "<pyannote.core.annotation.Annotation at 0x7f1d4c2192e8>"
      ]
     },
     "execution_count": 6,
     "metadata": {},
     "output_type": "execute_result"
    }
   ],
   "source": [
    "hypothesis = Annotation()\n",
    "hypothesis[Segment(2, 13)] = 'a'\n",
    "hypothesis[Segment(13, 14)] = 'd'\n",
    "hypothesis[Segment(14, 20)] = 'b'\n",
    "hypothesis[Segment(22, 38)] = 'c'\n",
    "hypothesis[Segment(38, 40)] = 'd'\n",
    "hypothesis"
   ]
  },
  {
   "cell_type": "markdown",
   "metadata": {},
   "source": [
    "# DER"
   ]
  },
  {
   "cell_type": "code",
   "execution_count": 21,
   "metadata": {},
   "outputs": [
    {
     "name": "stdout",
     "output_type": "stream",
     "text": [
      "DER = 0.516\n"
     ]
    }
   ],
   "source": [
    "from pyannote.metrics.diarization import DiarizationErrorRate\n",
    "diarizationErrorRate = DiarizationErrorRate()\n",
    "print(\"DER = {0:.3f}\".format(diarizationErrorRate(reference, hypothesis, uem=Segment(0, 40))))\n"
   ]
  },
  {
   "cell_type": "code",
   "execution_count": 14,
   "metadata": {},
   "outputs": [
    {
     "data": {
      "text/plain": [
       "{'a': 'A', 'b': 'B', 'c': 'C'}"
      ]
     },
     "execution_count": 14,
     "metadata": {},
     "output_type": "execute_result"
    }
   ],
   "source": [
    "diarizationErrorRate.optimal_mapping(reference, hypothesis)"
   ]
  },
  {
   "cell_type": "code",
   "execution_count": 26,
   "metadata": {},
   "outputs": [
    {
     "name": "stdout",
     "output_type": "stream",
     "text": [
      "{'confusion': 7.0,\n",
      " 'correct': 22.0,\n",
      " 'diarization error rate': 0.5161290322580645,\n",
      " 'false alarm': 7.0,\n",
      " 'missed detection': 2.0,\n",
      " 'total': 31.0}\n"
     ]
    }
   ],
   "source": [
    "from pprint import pprint\n",
    "diarizationErrorRate = DiarizationErrorRate()\n",
    "pprint(diarizationErrorRate(reference, hypothesis, detailed=True, uem=Segment(0, 40)))"
   ]
  },
  {
   "cell_type": "markdown",
   "metadata": {},
   "source": [
    "\n",
    "# Clusters purity and coverage\n"
   ]
  },
  {
   "cell_type": "code",
   "execution_count": 9,
   "metadata": {},
   "outputs": [
    {
     "name": "stdout",
     "output_type": "stream",
     "text": [
      "Purity = 0.828\n"
     ]
    }
   ],
   "source": [
    "from pyannote.metrics.diarization import DiarizationPurity\n",
    "purity = DiarizationPurity()\n",
    "print(\"Purity = {0:.3f}\".format(purity(reference, hypothesis, uem=Segment(0, 40))))"
   ]
  },
  {
   "cell_type": "code",
   "execution_count": 10,
   "metadata": {},
   "outputs": [
    {
     "name": "stdout",
     "output_type": "stream",
     "text": [
      "Coverage = 0.759\n"
     ]
    }
   ],
   "source": [
    "from pyannote.metrics.diarization import DiarizationCoverage\n",
    "coverage = DiarizationCoverage()\n",
    "print(\"Coverage = {0:.3f}\".format(coverage(reference, hypothesis, uem=Segment(0, 40))))"
   ]
  },
  {
   "cell_type": "code",
   "execution_count": 19,
   "metadata": {},
   "outputs": [
    {
     "data": {
      "image/png": "[encoded data removed]",
      "text/plain": [
       "<pyannote.core.annotation.Annotation at 0x7f5176c414e0>"
      ]
     },
     "execution_count": 19,
     "metadata": {},
     "output_type": "execute_result"
    }
   ],
   "source": [
    "# Need a file with start and end at seconds level information\n",
    "# Create a csv file in the format: start-sec,end-sec,label\n",
    "# read the labeled data\n",
    "data_path = 'data/labeled-data/example.csv'\n",
    "segments = []\n",
    "with open(data_path) as f:\n",
    "    for line in f:\n",
    "        if line.strip():\n",
    "            _tmp = line.strip().split(',')\n",
    "            segments.append([int(_tmp[0]), int(_tmp[1]), _tmp[2]])\n",
    "\n",
    "reference = Annotation()\n",
    "for seg in segments:\n",
    "    reference[Segment(seg[0], seg[1])] = seg[2]\n",
    "reference\n"
   ]
  },
  {
   "cell_type": "code",
   "execution_count": 24,
   "metadata": {},
   "outputs": [
    {
     "data": {
      "text/plain": [
       "pyannote.core.annotation.Annotation"
      ]
     },
     "execution_count": 24,
     "metadata": {},
     "output_type": "execute_result"
    }
   ],
   "source": [
    "type(reference)"
   ]
  },
  {
   "cell_type": "code",
   "execution_count": 25,
   "metadata": {},
   "outputs": [
    {
     "data": {
      "text/plain": [
       "[('c', 35), ('b', 27), ('a', 20)]"
      ]
     },
     "execution_count": 25,
     "metadata": {},
     "output_type": "execute_result"
    }
   ],
   "source": [
    "reference.chart()"
   ]
  },
  {
   "cell_type": "code",
   "execution_count": 49,
   "metadata": {},
   "outputs": [
    {
     "data": {
      "image/png": "[encoded data removed]",
      "text/plain": [
       "<Figure size 1080x144 with 1 Axes>"
      ]
     },
     "metadata": {
      "needs_background": "light"
     },
     "output_type": "display_data"
    }
   ],
   "source": [
    "fig, ax = plt.subplots(figsize=(15, 2))\n",
    "y=2\n",
    "# draw segment\n",
    "ax.hlines(2, 5, 7, 'blue',\n",
    "         linewidth=2, linestyle='solid', label='c')\n",
    "ax.hlines(2, 9, 60, 'red',\n",
    "         linewidth=2, linestyle='solid', label='a')\n",
    "\n",
    "ax.vlines(5, y + 0.05, y - 0.05,\n",
    "          'blue', linewidth=1, linestyle='solid')\n",
    "ax.vlines(7, y + 0.05, y - 0.05, 'blue', linewidth=1, linestyle='solid')\n",
    "\n",
    "plt.yticks(range(1,4))\n",
    "plt.show()"
   ]
  },
  {
   "cell_type": "code",
   "execution_count": null,
   "metadata": {},
   "outputs": [],
   "source": []
  }
 ],
 "metadata": {
  "kernelspec": {
   "display_name": "Python 3",
   "language": "python",
   "name": "python3"
  },
  "language_info": {
   "codemirror_mode": {
    "name": "ipython",
    "version": 3
   },
   "file_extension": ".py",
   "mimetype": "text/x-python",
   "name": "python",
   "nbconvert_exporter": "python",
   "pygments_lexer": "ipython3",
   "version": "3.6.6"
  }
 },
 "nbformat": 4,
 "nbformat_minor": 2
}
